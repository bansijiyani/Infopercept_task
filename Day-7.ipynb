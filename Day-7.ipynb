{
 "cells": [
  {
   "cell_type": "code",
   "execution_count": 12,
   "id": "e7db57dd",
   "metadata": {},
   "outputs": [
    {
     "name": "stdout",
     "output_type": "stream",
     "text": [
      "Prime Number\n",
      "Not prime\n"
     ]
    }
   ],
   "source": [
    "# 1. Create a user define function named prime which accept one argument (of integer type) and display that the number is prime or not.\n",
    "\n",
    "def prime(n):\n",
    "    prime = True\n",
    "    for i in range(2,int((n+1)/2)):\n",
    "        if(n % i == 0):\n",
    "            prime = False\n",
    "        \n",
    "    if(prime == True):\n",
    "        print(\"Prime Number\")\n",
    "    else:\n",
    "        print('Not prime')\n",
    "        \n",
    "prime(5)\n",
    "prime(10)\n"
   ]
  },
  {
   "cell_type": "code",
   "execution_count": 16,
   "id": "0f73eb3b",
   "metadata": {},
   "outputs": [
    {
     "name": "stdout",
     "output_type": "stream",
     "text": [
      "Enter the number n1 : 2\n",
      "Enter the number n2 : 5\n",
      "After swapping n1 :  5\n",
      "After swapping n2 :  2\n"
     ]
    }
   ],
   "source": [
    "# 2. Write a function to swap for interchange the value of two variables. (Using Reference Variables)\n",
    "\n",
    "def swap(a,b):\n",
    "    temp = a\n",
    "    a = b\n",
    "    b = temp\n",
    "    print(\"After swapping n1 : \",a)\n",
    "    print(\"After swapping n2 : \",b)\n",
    "    \n",
    "    \n",
    "n1 = input(\"Enter the number n1 : \")\n",
    "n2 = input(\"Enter the number n2 : \")\n",
    "\n",
    "swap(n1 , n2)\n"
   ]
  },
  {
   "cell_type": "code",
   "execution_count": null,
   "id": "b0bd563c",
   "metadata": {},
   "outputs": [],
   "source": []
  },
  {
   "cell_type": "code",
   "execution_count": 20,
   "id": "3b5af896",
   "metadata": {},
   "outputs": [
    {
     "name": "stdout",
     "output_type": "stream",
     "text": [
      "Helloo welcome...\n"
     ]
    }
   ],
   "source": [
    "# 3. Write an inline function to display message on the screen\n",
    "\n",
    "msg = lambda a : print(a)\n",
    "msg(\"Helloo welcome...\")"
   ]
  },
  {
   "cell_type": "code",
   "execution_count": null,
   "id": "167265af",
   "metadata": {},
   "outputs": [],
   "source": []
  },
  {
   "cell_type": "code",
   "execution_count": 25,
   "id": "12aae4cf",
   "metadata": {},
   "outputs": [
    {
     "name": "stdout",
     "output_type": "stream",
     "text": [
      "Enter number for sqare : 5\n",
      "power of m :  25\n"
     ]
    }
   ],
   "source": [
    "# 4. Write a function called Power () that takes a double value for m and an int value for P and returns the result as double value. Use a default argument of 2 for P, So that if this argument is omitted, the number will be squared. Write a main () function that gets value from the user to test this function.\n",
    "\n",
    "\n",
    "def power(m,p=2):\n",
    "    print(\"power of m : \", m**p)\n",
    "    \n",
    "def main():\n",
    "    m = int(input(\"Enter number for sqare : \"))\n",
    "    power(m)\n",
    "   \n",
    "\n",
    "main()"
   ]
  },
  {
   "cell_type": "code",
   "execution_count": null,
   "id": "390b2f8a",
   "metadata": {},
   "outputs": [],
   "source": []
  },
  {
   "cell_type": "code",
   "execution_count": null,
   "id": "4bd31e5a",
   "metadata": {},
   "outputs": [],
   "source": []
  },
  {
   "cell_type": "code",
   "execution_count": 37,
   "id": "e8fc7671",
   "metadata": {},
   "outputs": [
    {
     "name": "stdout",
     "output_type": "stream",
     "text": [
      "Enter number : 4\n",
      "Enter float number : 89\n",
      "Result : 16\n",
      "Result : 7921.0\n"
     ]
    }
   ],
   "source": [
    "# 5. Write a function that performs the same operation as that of above exercise but takes an int value for m. Both the functions should have the same name. Write a main() that calls both the functions. Use the concept of function overloading.\n",
    "\n",
    "def power(m, p=2):\n",
    "    if isinstance(m, int):\n",
    "        result = m ** p\n",
    "        print(\"Result :\" , result)\n",
    "    elif isinstance(m, float):\n",
    "        result = m ** p\n",
    "        print(\"Result :\" , result)\n",
    "    else:\n",
    "        print(\"Invalid input type for m.\")\n",
    "\n",
    "def mainf():\n",
    "    m = int(input(\"Enter number : \"))\n",
    "    fm = float(input(\"Enter float number : \"))\n",
    "    power(m)\n",
    "    power(fm)\n",
    "\n",
    "mainf()"
   ]
  },
  {
   "cell_type": "code",
   "execution_count": null,
   "id": "37ecaaba",
   "metadata": {},
   "outputs": [],
   "source": []
  },
  {
   "cell_type": "code",
   "execution_count": 40,
   "id": "0dd1f810",
   "metadata": {},
   "outputs": [
    {
     "name": "stdout",
     "output_type": "stream",
     "text": [
      "Char :  A Int :  10\n",
      "Char :  B\n",
      "Invalid input\n",
      "Invalid input.\n"
     ]
    }
   ],
   "source": [
    "# 6. Create 3 UDF having same name display to display message/data\n",
    "# First will accept one char and one int value as argument.\n",
    "# Second will accept one char as argument.\n",
    "# Third will not accept any argument.\n",
    "\n",
    "def display(a=None, b=None):\n",
    "    if isinstance(a, str) and isinstance(b, int):\n",
    "        print(\"Char : \" , a ,\"Int : \",b)\n",
    "    \n",
    "    elif isinstance(a, str) and b is None:\n",
    "        print(\"Char : \", a)\n",
    "        \n",
    "    elif a is None and b is None:\n",
    "        print(\"Invalid input\")\n",
    "\n",
    "    else:\n",
    "        print(\"Invalid input.\")\n",
    "\n",
    "def main():\n",
    "    display('A', 10)\n",
    "    display('B')\n",
    "    display()\n",
    "    display(10)       \n",
    "\n",
    "main()\n"
   ]
  },
  {
   "cell_type": "code",
   "execution_count": null,
   "id": "163eb309",
   "metadata": {},
   "outputs": [],
   "source": []
  },
  {
   "cell_type": "code",
   "execution_count": null,
   "id": "88ef5b3c",
   "metadata": {},
   "outputs": [],
   "source": []
  },
  {
   "cell_type": "code",
   "execution_count": 43,
   "id": "d59678c4",
   "metadata": {},
   "outputs": [
    {
     "name": "stdout",
     "output_type": "stream",
     "text": [
      "Choose a shape  (triangle, square, circle):\n",
      "circle\n",
      "Enter the radius:\n",
      "45\n",
      "Area of the circle: 6358.500000000001\n"
     ]
    }
   ],
   "source": [
    "# 7. Write a functions called Area() which is used to find out area of triangle, square, circle. Use the concept of function overloading. Write a main () function that gets value from the user to test these functions. Use function overloading.\n",
    "\n",
    "\n",
    "class Shape:\n",
    "    @staticmethod\n",
    "    def triangle(b, h):\n",
    "        return (1/2) * b * h\n",
    "    \n",
    "    @staticmethod\n",
    "    def square(s):\n",
    "        return s * s\n",
    "    \n",
    "    @staticmethod\n",
    "    def circle(r):\n",
    "        return 3.14 * r * r\n",
    "\n",
    "def main():\n",
    "    print(\"Choose a shape  (triangle, square, circle):\")\n",
    "    shape = input().strip().lower()\n",
    "\n",
    "    if shape == \"triangle\":\n",
    "        print(\"Enter base and height separated by a space:\")\n",
    "        base, height = map(float, input().split())\n",
    "        print(\"Area of the triangle:\", Shape.triangle(base, height))\n",
    "    \n",
    "    elif shape == \"square\":\n",
    "        print(\"Enter the side length:\")\n",
    "        side = float(input())\n",
    "        print(\"Area of the square:\", Shape.square(side))\n",
    "    \n",
    "    elif shape == \"circle\":\n",
    "        print(\"Enter the radius:\")\n",
    "        radius = float(input())\n",
    "        print(\"Area of the circle:\", Shape.circle(radius))\n",
    "    \n",
    "    else:\n",
    "        print(\"Invalid shape.\")\n",
    "\n",
    "main()\n"
   ]
  },
  {
   "cell_type": "markdown",
   "id": "f5146fe4",
   "metadata": {},
   "source": []
  },
  {
   "cell_type": "code",
   "execution_count": null,
   "id": "1ac15991",
   "metadata": {},
   "outputs": [],
   "source": []
  },
  {
   "cell_type": "code",
   "execution_count": 45,
   "id": "f1a96e71",
   "metadata": {},
   "outputs": [
    {
     "name": "stdout",
     "output_type": "stream",
     "text": [
      "1. Print 30 stars\n",
      "2. Print a char 30 times\n",
      "3. Print a char a specific times\n",
      "Choose (1/2/3): 2\n",
      "Enter a char: r\n",
      "rrrrrrrrrrrrrrrrrrrrrrrrrrrrrr\n"
     ]
    }
   ],
   "source": [
    "# 8. Write a function that prints the character on the screen. Write one function called Putchar () that accept no argument and print 30 star(*) on the screen in one line. Write one function called Putchar () that accept one char variable Ch and print that character on the screen for 30 times. Write another function called Putchar () that accept two arguments one char variable Ch and second int variable T and print the Ch on the screen for T times. Write a main () function that gets value from the user to test these functions. Use function overloading.\n",
    "\n",
    "\n",
    "class Putchar:\n",
    "    @staticmethod\n",
    "    def print_stars():\n",
    "        print('*' * 30)\n",
    "    \n",
    "    @staticmethod\n",
    "    def print_char(ch):\n",
    "        if len(ch) == 1:\n",
    "            print(ch * 30)\n",
    "        else:\n",
    "            raise ValueError(\"Must be a single char.\")\n",
    "    \n",
    "    @staticmethod\n",
    "    def print_char_times(ch, t):\n",
    "        if len(ch) == 1 and t >= 0:\n",
    "            print(ch * t)\n",
    "        else:\n",
    "            raise ValueError(\"Char and non-negative int required.\")\n",
    "\n",
    "def main():\n",
    "    print(\"1. Print 30 stars\")\n",
    "    print(\"2. Print a char 30 times\")\n",
    "    print(\"3. Print a char a specific times\")\n",
    "    \n",
    "    choice = int(input(\"Choose (1/2/3): \"))\n",
    "\n",
    "    if choice == 1:\n",
    "        Putchar.print_stars()\n",
    "    \n",
    "    elif choice == 2:\n",
    "        ch = input(\"Enter a char: \")\n",
    "        if len(ch) == 1:\n",
    "            Putchar.print_char(ch)\n",
    "        else:\n",
    "            print(\"Invalid char.\")\n",
    "    \n",
    "    elif choice == 3:\n",
    "        ch = input(\"Enter a char: \")\n",
    "        if len(ch) == 1:\n",
    "            t = int(input(\"Times to print: \"))\n",
    "            Putchar.print_char_times(ch, t)\n",
    "        else:\n",
    "            print(\"Invalid char.\")\n",
    "    \n",
    "    else:\n",
    "        print(\"Invalid choice.\")\n",
    "\n",
    "main()\n"
   ]
  },
  {
   "cell_type": "code",
   "execution_count": null,
   "id": "54a3c927",
   "metadata": {},
   "outputs": [],
   "source": []
  },
  {
   "cell_type": "code",
   "execution_count": null,
   "id": "a846eb26",
   "metadata": {},
   "outputs": [],
   "source": []
  },
  {
   "cell_type": "code",
   "execution_count": 46,
   "id": "2d9ab73f",
   "metadata": {},
   "outputs": [
    {
     "name": "stdout",
     "output_type": "stream",
     "text": [
      "1. Sum of two ints\n",
      "2. Sum of two floats\n",
      "3. Sum of int and float\n",
      "4. Sum of float and int\n",
      "Choose (1/2/3/4): 2\n",
      "Enter 1st float: 3.6\n",
      "Enter 2nd float: 5.8\n",
      "Sum: 9.4\n"
     ]
    }
   ],
   "source": [
    "# 9. Create 4 UDF having same name Sum\n",
    "# First will accept two int argument and return int value\n",
    "# Second will accept two float argument and return float value\n",
    "# Third will accept one int and one float argument and return float value\n",
    "# Forth will accept one float and one int argument and return float value\n",
    "\n",
    "\n",
    "class MathOps:\n",
    "    @staticmethod\n",
    "    def Sum(a, b):\n",
    "        if isinstance(a, int) and isinstance(b, int):\n",
    "            return a + b\n",
    "        elif isinstance(a, float) and isinstance(b, float):\n",
    "            return a + b\n",
    "        elif isinstance(a, int) and isinstance(b, float):\n",
    "            return a + b\n",
    "        elif isinstance(a, float) and isinstance(b, int):\n",
    "            return a + b\n",
    "        else:\n",
    "            raise TypeError(\"Invalid types.\")\n",
    "\n",
    "def main():\n",
    "    print(\"1. Sum of two ints\")\n",
    "    print(\"2. Sum of two floats\")\n",
    "    print(\"3. Sum of int and float\")\n",
    "    print(\"4. Sum of float and int\")\n",
    "    \n",
    "    choice = int(input(\"Choose (1/2/3/4): \"))\n",
    "\n",
    "    if choice == 1:\n",
    "        a = int(input(\"Enter 1st int: \"))\n",
    "        b = int(input(\"Enter 2nd int: \"))\n",
    "        print(\"Sum:\", MathOps.Sum(a, b))\n",
    "    \n",
    "    elif choice == 2:\n",
    "        a = float(input(\"Enter 1st float: \"))\n",
    "        b = float(input(\"Enter 2nd float: \"))\n",
    "        print(\"Sum:\", MathOps.Sum(a, b))\n",
    "    \n",
    "    elif choice == 3:\n",
    "        a = int(input(\"Enter int: \"))\n",
    "        b = float(input(\"Enter float: \"))\n",
    "        print(\"Sum:\", MathOps.Sum(a, b))\n",
    "    \n",
    "    elif choice == 4:\n",
    "        a = float(input(\"Enter float: \"))\n",
    "        b = int(input(\"Enter int: \"))\n",
    "        print(\"Sum:\", MathOps.Sum(a, b))\n",
    "    \n",
    "    else:\n",
    "        print(\"Invalid choice.\")\n",
    "\n",
    "main()\n"
   ]
  },
  {
   "cell_type": "code",
   "execution_count": null,
   "id": "2d79def1",
   "metadata": {},
   "outputs": [],
   "source": []
  }
 ],
 "metadata": {
  "kernelspec": {
   "display_name": "Python 3 (ipykernel)",
   "language": "python",
   "name": "python3"
  },
  "language_info": {
   "codemirror_mode": {
    "name": "ipython",
    "version": 3
   },
   "file_extension": ".py",
   "mimetype": "text/x-python",
   "name": "python",
   "nbconvert_exporter": "python",
   "pygments_lexer": "ipython3",
   "version": "3.11.5"
  }
 },
 "nbformat": 4,
 "nbformat_minor": 5
}
