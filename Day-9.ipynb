{
 "cells": [
  {
   "cell_type": "code",
   "execution_count": 1,
   "id": "2b9189ab",
   "metadata": {},
   "outputs": [
    {
     "name": "stdout",
     "output_type": "stream",
     "text": [
      "Enter num for print series : 7\n",
      "1,2,3,4,5,6,7,"
     ]
    }
   ],
   "source": [
    "# 1. 1, 2, 3, 4, 5, 6, 7, 8, 9\tn\n",
    "\n",
    "n = int(input(\"Enter num for print series : \"))\n",
    "\n",
    "for i in range(1,n+1):\n",
    "    print(i,end=\",\")\n"
   ]
  },
  {
   "cell_type": "code",
   "execution_count": 4,
   "id": "23c3051b",
   "metadata": {},
   "outputs": [
    {
     "name": "stdout",
     "output_type": "stream",
     "text": [
      "Enter num for print Reverse series : 6\n",
      "6,5,4,3,2,1,"
     ]
    }
   ],
   "source": [
    "# 2. Write a Python Program to print n to 1 numbers.\n",
    "\n",
    "n1 = int(input(\"Enter num for print Reverse series : \"))\n",
    "\n",
    "for i in range(n1,0,-1):\n",
    "    print(i,end=\",\")"
   ]
  },
  {
   "cell_type": "code",
   "execution_count": 5,
   "id": "c7828c78",
   "metadata": {},
   "outputs": [
    {
     "name": "stdout",
     "output_type": "stream",
     "text": [
      "Enter num for print odd series : 9\n",
      "1,3,5,7,9,"
     ]
    }
   ],
   "source": [
    "# 3. Write a Python Program to print 1 to n odd numbers\n",
    "\n",
    "odd_s = int(input(\"Enter num for print odd series : \"))\n",
    "\n",
    "for i in range(1,odd_s+1):\n",
    "    if(i%2 != 0):\n",
    "        print(i,end=\",\")\n"
   ]
  },
  {
   "cell_type": "code",
   "execution_count": 6,
   "id": "dc2cc206",
   "metadata": {},
   "outputs": [
    {
     "name": "stdout",
     "output_type": "stream",
     "text": [
      "Enter num for print odd series : 12\n",
      "2,4,6,8,10,12,"
     ]
    }
   ],
   "source": [
    "# 4. Write a Python Program to print 1 to n even numbers\n",
    "\n",
    "even_s = int(input(\"Enter num for print odd series : \"))\n",
    "\n",
    "for i in range(1,even_s+1):\n",
    "    if(i%2 == 0):\n",
    "        print(i,end=\",\")\n"
   ]
  },
  {
   "cell_type": "code",
   "execution_count": 8,
   "id": "d181078a",
   "metadata": {},
   "outputs": [
    {
     "name": "stdout",
     "output_type": "stream",
     "text": [
      "Enter num for print odd series : 12\n",
      "11,9,7,5,3,1,"
     ]
    }
   ],
   "source": [
    "# 5. Write a Python Program to print n to 1 odd numbers\n",
    "\n",
    "\n",
    "odd_rev = int(input(\"Enter num for print odd series : \"))\n",
    "\n",
    "for i in range(odd_rev,0,-1):\n",
    "    if(i%2 != 0):\n",
    "        print(i,end=\",\")"
   ]
  },
  {
   "cell_type": "code",
   "execution_count": 9,
   "id": "1c93d6c7",
   "metadata": {},
   "outputs": [
    {
     "name": "stdout",
     "output_type": "stream",
     "text": [
      "Enter num for print odd series : 15\n",
      "14,12,10,8,6,4,2,"
     ]
    }
   ],
   "source": [
    "# 6. Write a Python Program to print n to 1 odd numbers\n",
    "\n",
    "\n",
    "ev_rev = int(input(\"Enter num for print odd series : \"))\n",
    "\n",
    "for i in range(ev_rev,0,-1):\n",
    "    if(i%2 == 0):\n",
    "        print(i,end=\",\")"
   ]
  },
  {
   "cell_type": "code",
   "execution_count": 10,
   "id": "c370c149",
   "metadata": {},
   "outputs": [
    {
     "name": "stdout",
     "output_type": "stream",
     "text": [
      "Enter num for print series : 9\n",
      "1 + 2 + 3 + 4 + 5 + 6 + 7 + 8 + 9 + "
     ]
    }
   ],
   "source": [
    "# 7. 1+2+3+4+5+6+7+8+9.....n\n",
    "\n",
    "n = int(input(\"Enter num for print series : \"))\n",
    "\n",
    "for i in range(1,n+1):\n",
    "    print(i,end=\" + \")"
   ]
  },
  {
   "cell_type": "code",
   "execution_count": 13,
   "id": "717530f2",
   "metadata": {},
   "outputs": [
    {
     "name": "stdout",
     "output_type": "stream",
     "text": [
      "Enter num for print square series : 5\n",
      "1 , 4 , 9 , 16 , 25 , "
     ]
    }
   ],
   "source": [
    "# 8. 1, 4, 9, 16, 25, 36..n\n",
    "\n",
    "n = int(input(\"Enter num for print square series : \"))\n",
    "\n",
    "for i in range(1,n+1):\n",
    "    print(i*i,end=\" , \")"
   ]
  },
  {
   "cell_type": "code",
   "execution_count": 14,
   "id": "b5284406",
   "metadata": {},
   "outputs": [
    {
     "name": "stdout",
     "output_type": "stream",
     "text": [
      "Enter num for print square series : 6\n",
      "1 + 4 + 9 + 16 + 25 + 36 + "
     ]
    }
   ],
   "source": [
    "# 9. 1+4+9+16+25+36...n\n",
    "\n",
    "\n",
    "n = int(input(\"Enter num for print square series : \"))\n",
    "\n",
    "for i in range(1,n+1):\n",
    "    print(i*i,end=\" + \")\n"
   ]
  },
  {
   "cell_type": "code",
   "execution_count": 17,
   "id": "ddef7325",
   "metadata": {},
   "outputs": [
    {
     "name": "stdout",
     "output_type": "stream",
     "text": [
      "Enter num for print fib series : 6\n",
      "1,2,3,5,8,13,21,"
     ]
    }
   ],
   "source": [
    "# 10. 1, 1, 2, 3, 5, 8, 13, 21....n\n",
    "\n",
    "f = int(input(\"Enter num for print fib series : \"))\n",
    "\n",
    "n1=0\n",
    "n2=1\n",
    "\n",
    "for i in range(0,f+1):\n",
    "    n3 = n1+n2\n",
    "    print(n3,end=',')\n",
    "    n1 = n2\n",
    "    n2 = n3\n"
   ]
  }
 ],
 "metadata": {
  "kernelspec": {
   "display_name": "Python 3 (ipykernel)",
   "language": "python",
   "name": "python3"
  },
  "language_info": {
   "codemirror_mode": {
    "name": "ipython",
    "version": 3
   },
   "file_extension": ".py",
   "mimetype": "text/x-python",
   "name": "python",
   "nbconvert_exporter": "python",
   "pygments_lexer": "ipython3",
   "version": "3.11.5"
  }
 },
 "nbformat": 4,
 "nbformat_minor": 5
}
