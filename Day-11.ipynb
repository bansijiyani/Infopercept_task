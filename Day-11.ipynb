{
 "cells": [
  {
   "cell_type": "code",
   "execution_count": 1,
   "id": "a1b6bbd6",
   "metadata": {},
   "outputs": [
    {
     "name": "stdout",
     "output_type": "stream",
     "text": [
      "Enter num for print series : 6\n",
      "1,2,4,7,11,16,"
     ]
    }
   ],
   "source": [
    "# 11 . 1, 2, 4, 7, 11, 16...n\n",
    "\n",
    "s = int(input(\"Enter num for print series : \"))\n",
    "\n",
    "n1 = 1\n",
    "\n",
    "print(\"1\",end = ',')\n",
    "for i in range(1,s):\n",
    "    n2 = n1+i\n",
    "    print(n2,end=',')\n",
    "    n1 = n2"
   ]
  },
  {
   "cell_type": "code",
   "execution_count": 2,
   "id": "8242274e",
   "metadata": {},
   "outputs": [
    {
     "name": "stdout",
     "output_type": "stream",
     "text": [
      "Enter any number in integer : 4765\n",
      "5674\n"
     ]
    }
   ],
   "source": [
    "# 12 . Write a program to read any integer number and print it in reverse.\n",
    "\n",
    "num = int(input(\"Enter any number in integer : \"))\n",
    "\n",
    "rev = 0\n",
    "while(num != 0):\n",
    "    r = num % 10\n",
    "    rev = (rev * 10) + r\n",
    "    num = num//10\n",
    "    \n",
    "print(rev)"
   ]
  },
  {
   "cell_type": "code",
   "execution_count": 3,
   "id": "db969fef",
   "metadata": {},
   "outputs": [
    {
     "name": "stdout",
     "output_type": "stream",
     "text": [
      "Enter any number: 46\n",
      "10\n"
     ]
    }
   ],
   "source": [
    "# 13 . Write a program to read any number and print the sum of all values.\n",
    "\n",
    "nm = int(input(\"Enter any number: \"))\n",
    "sm = 0\n",
    "\n",
    "\n",
    "while nm != 0:\n",
    "    sm = sm + (nm % 10)  \n",
    "    nm = nm // 10        \n",
    "\n",
    "print(sm)\n"
   ]
  },
  {
   "cell_type": "code",
   "execution_count": 4,
   "id": "38f843b3",
   "metadata": {},
   "outputs": [
    {
     "name": "stdout",
     "output_type": "stream",
     "text": [
      "Enter number 49\n",
      "Not prime\n"
     ]
    }
   ],
   "source": [
    "# 14. Write a program to determine whether a number is prime or not.\n",
    "# (A prime number is one, which is divisible only by 1 or itself only.)\n",
    "\n",
    "p_num = int(input(\"Enter number \"))\n",
    "prime = True\n",
    "i = 2\n",
    "\n",
    "while i < p_num:\n",
    "    if p_num % i == 0:\n",
    "        prime = False\n",
    "    i +=1\n",
    "\n",
    "if prime == True :\n",
    "    print(\"Number is prime\")\n",
    "else:\n",
    "    print(\"Not prime\")\n",
    "    \n"
   ]
  },
  {
   "cell_type": "code",
   "execution_count": 5,
   "id": "54615721",
   "metadata": {},
   "outputs": [
    {
     "name": "stdout",
     "output_type": "stream",
     "text": [
      "Enter a number: 76\n",
      "num is not an Armstrong number.\n"
     ]
    }
   ],
   "source": [
    "# 15 . Write a Python Program to find out whether a given no. is an Armstrong no. or not.\n",
    "\n",
    "num = int(input(\"Enter a number: \"))\n",
    "t = num\n",
    "sm = 0\n",
    "\n",
    "nm = len(str(num))\n",
    "\n",
    "while t > 0:\n",
    "    digit = t % 10\n",
    "    sm += digit ** nm\n",
    "    t //= 10\n",
    "\n",
    "if sm == num:\n",
    "    print(\"Armstrong number.\")\n",
    "else:\n",
    "    print(\"not Armstrong number.\")\n"
   ]
  },
  {
   "cell_type": "code",
   "execution_count": 7,
   "id": "442c496b",
   "metadata": {},
   "outputs": [
    {
     "name": "stdout",
     "output_type": "stream",
     "text": [
      "Enter number for find fact : 5\n",
      "Factorial is :  120\n"
     ]
    }
   ],
   "source": [
    "# 16. Write a program to find out Factorial of a given number. (e.g. 5! = 120)\n",
    "\n",
    "a = int(input(\"Enter number for find fact : \"))\n",
    "fact = 1\n",
    "\n",
    "for i in range(1,a+1):\n",
    "    fact = fact*i\n",
    "    \n",
    "print(\"Factorial is : \",fact)"
   ]
  },
  {
   "cell_type": "code",
   "execution_count": 8,
   "id": "d74d7c7b",
   "metadata": {},
   "outputs": [
    {
     "name": "stdout",
     "output_type": "stream",
     "text": [
      "Enter num for print factorial series : 7\n",
      "1 + 2 + 6 + 24 + 120 + 720 + 5040 + "
     ]
    }
   ],
   "source": [
    "# 17. 1! + 2! + 3! + 4! + 5!\n",
    "\n",
    "def f(n):\n",
    "    ft = 1\n",
    "    for i in range(1,n+1):\n",
    "        ft = ft*i\n",
    "        \n",
    "    return ft\n",
    "\n",
    "\n",
    "nm2 = int(input(\"Enter num for print factorial series : \"))\n",
    "\n",
    "for i in range(1,nm2+1):\n",
    "    fact = f(i)\n",
    "    print(fact,end=\" + \")"
   ]
  },
  {
   "cell_type": "code",
   "execution_count": 9,
   "id": "89cf904f",
   "metadata": {},
   "outputs": [
    {
     "name": "stdout",
     "output_type": "stream",
     "text": [
      "1 / 2\n",
      "2 / 6\n",
      "3 / 24\n",
      "4 / 120\n",
      "5 / 720\n",
      "6 / 5040\n",
      "7 / 40320\n",
      "8 / 362880\n",
      "9 / 3628800\n",
      "10 / 39916800\n"
     ]
    }
   ],
   "source": [
    "#18.  Write a Python Program to generate following series:\n",
    "# 1/2! + 2/3! + 3/4! + 4/5! +...(10Terms)\n",
    "\n",
    "\n",
    "for i in range(1,11):\n",
    "    print(i,\"/\",f(i+1))"
   ]
  },
  {
   "cell_type": "code",
   "execution_count": 10,
   "id": "1b5a1834",
   "metadata": {},
   "outputs": [
    {
     "name": "stdout",
     "output_type": "stream",
     "text": [
      "Enter num : 43\n",
      "946\n"
     ]
    }
   ],
   "source": [
    "# 19. Write a Python Program to generate the following output 1+2+3+4+5+6+7+8+9+10=55\n",
    "\n",
    "m = int(input(\"Enter num : \"))\n",
    "sum1 = 0\n",
    "\n",
    "for i in range(0,m+1):\n",
    "    sum1 = sum1 + i\n",
    "    \n",
    "print(sum1)\n"
   ]
  },
  {
   "cell_type": "code",
   "execution_count": 11,
   "id": "5cf17fdb",
   "metadata": {},
   "outputs": [
    {
     "name": "stdout",
     "output_type": "stream",
     "text": [
      "1\n",
      "2\n",
      "3\n",
      "4\n",
      "5\n",
      "6\n",
      "7\n",
      "8\n",
      "9\n",
      "153\n",
      "370\n",
      "371\n",
      "407\n"
     ]
    }
   ],
   "source": [
    "# 20. Write a Python Program to print out all Armstrong numbers between 1 to 500.\n",
    "\n",
    "def is_armstrong(num):\n",
    "    t = num\n",
    "    sm = 0\n",
    "    nm = len(str(num))\n",
    "\n",
    "    while t > 0:\n",
    "        digit = t % 10\n",
    "        sm += digit ** nm\n",
    "        t //= 10\n",
    "\n",
    "    return sm == num\n",
    "\n",
    "for i in range(1, 501):\n",
    "    if is_armstrong(i):\n",
    "        print(i)\n"
   ]
  },
  {
   "cell_type": "code",
   "execution_count": null,
   "id": "9bcb341c",
   "metadata": {},
   "outputs": [],
   "source": []
  }
 ],
 "metadata": {
  "kernelspec": {
   "display_name": "Python 3 (ipykernel)",
   "language": "python",
   "name": "python3"
  },
  "language_info": {
   "codemirror_mode": {
    "name": "ipython",
    "version": 3
   },
   "file_extension": ".py",
   "mimetype": "text/x-python",
   "name": "python",
   "nbconvert_exporter": "python",
   "pygments_lexer": "ipython3",
   "version": "3.11.5"
  }
 },
 "nbformat": 4,
 "nbformat_minor": 5
}
