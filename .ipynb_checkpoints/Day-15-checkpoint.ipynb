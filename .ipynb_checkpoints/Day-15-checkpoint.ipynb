{
 "cells": [
  {
   "cell_type": "code",
   "execution_count": 3,
   "id": "c1a97a82",
   "metadata": {},
   "outputs": [
    {
     "name": "stdout",
     "output_type": "stream",
     "text": [
      "Enter how many num want print ? - 7\n",
      "2,4,8,16,32,64,128,256,"
     ]
    }
   ],
   "source": [
    "# 41. Write a Python Program to Generate a Series like 2 4 8 16 32…1048\n",
    "\n",
    "n = int(input(\"Enter how many num want print ? - \"))\n",
    "\n",
    "cnt = 0\n",
    "n1 = 2\n",
    "\n",
    "while cnt < n+1:\n",
    "    print(n1 , end = \",\")\n",
    "    n1 = n1 * 2\n",
    "    cnt += 1"
   ]
  },
  {
   "cell_type": "code",
   "execution_count": 5,
   "id": "26571685",
   "metadata": {},
   "outputs": [
    {
     "name": "stdout",
     "output_type": "stream",
     "text": [
      "Enter num : 8\n",
      "1\n",
      "11\n",
      "20\n",
      "28\n",
      "35\n",
      "41\n",
      "46\n",
      "50\n"
     ]
    }
   ],
   "source": [
    "# 42. Write a Python Program to Generate a Series like 1 11 20 28 35 41 46 50 53 55 56\n",
    "\n",
    "\n",
    "n1 = int(input(\"Enter num : \"))\n",
    "d = 10\n",
    "cnt = 0\n",
    "n = 1\n",
    "\n",
    "while cnt < n1:\n",
    "    print(n)\n",
    "    n = n + d\n",
    "    d = d-1\n",
    "    cnt += 1"
   ]
  },
  {
   "cell_type": "code",
   "execution_count": 14,
   "id": "1d7392b4",
   "metadata": {},
   "outputs": [
    {
     "name": "stdout",
     "output_type": "stream",
     "text": [
      "Enter num for series : 6\n",
      "1 , 10 , 2 , 9 , 3 , 8 , "
     ]
    }
   ],
   "source": [
    "# 43. Write a Python Program to Generate a Series like 1 10 2 9 3 8 4 7 5 6\n",
    "\n",
    "n = int(input(\"Enter num for series : \"))\n",
    "cnt = 0\n",
    "n1 = 10\n",
    "n2 = 1\n",
    "\n",
    "\n",
    "while cnt < n :\n",
    "    print(n2,\",\",n1,end=\" , \")\n",
    "    n1 -=1\n",
    "    n2 +=1\n",
    "    cnt +=2"
   ]
  },
  {
   "cell_type": "code",
   "execution_count": 18,
   "id": "e58c108e",
   "metadata": {},
   "outputs": [
    {
     "name": "stdout",
     "output_type": "stream",
     "text": [
      "Enter num : 40\n",
      "2,4,6,8,10,12,14,16,18,20,22,24,26,28,30,32,34,36,38,40,"
     ]
    }
   ],
   "source": [
    "# 44. Write a Python Program to Generate a Series like 2 4 6\t20\n",
    "\n",
    "n1 = int(input(\"Enter num : \"))\n",
    "\n",
    "for i in range(2,n1+1):\n",
    "    if(i % 2 == 0):\n",
    "        print(i,end = \",\")\n",
    "        \n",
    "    "
   ]
  },
  {
   "cell_type": "code",
   "execution_count": 19,
   "id": "f025111c",
   "metadata": {},
   "outputs": [
    {
     "name": "stdout",
     "output_type": "stream",
     "text": [
      "Enter num : 100\n",
      "5,10,15,20,25,30,35,40,45,50,55,60,65,70,75,80,85,90,95,100,"
     ]
    }
   ],
   "source": [
    "# 45.Write a Python Program to Generate a Series like 5 10 15 …50\n",
    "\n",
    "n1 = int(input(\"Enter num : \"))\n",
    "\n",
    "for i in range(2,n1+1):\n",
    "    if(i % 5 == 0):\n",
    "        print(i,end = \",\")"
   ]
  },
  {
   "cell_type": "code",
   "execution_count": 21,
   "id": "e745f240",
   "metadata": {},
   "outputs": [
    {
     "name": "stdout",
     "output_type": "stream",
     "text": [
      "Enter num : 12\n",
      "100,99,98,97,96,95,94,93,92,91,90,89,"
     ]
    }
   ],
   "source": [
    "# 46. Write a Python Program to Generate a Series like 100 99 98 97 …90\n",
    "\n",
    "n2 = int(input(\"Enter num : \"))\n",
    "cnt = 0\n",
    "n = 100\n",
    "\n",
    "while cnt < n2:\n",
    "    print(n,end = \",\")\n",
    "    n = n-1\n",
    "    cnt +=1"
   ]
  },
  {
   "cell_type": "code",
   "execution_count": 23,
   "id": "b3962d65",
   "metadata": {},
   "outputs": [
    {
     "name": "stdout",
     "output_type": "stream",
     "text": [
      "Enter num : 9\n",
      "1,3,5,7,9,"
     ]
    }
   ],
   "source": [
    "# 47. Write a Python Program to Generate a Series like 1 3 5 7\t19\n",
    "\n",
    "n1 = int(input(\"Enter num : \"))\n",
    "\n",
    "for i in range(1,n1+1):\n",
    "    if(i % 2 != 0):\n",
    "        print(i,end = \",\")\n",
    "        \n"
   ]
  },
  {
   "cell_type": "code",
   "execution_count": 24,
   "id": "325ecf36",
   "metadata": {},
   "outputs": [
    {
     "name": "stdout",
     "output_type": "stream",
     "text": [
      "Enter num : 12\n",
      "1,2,3,4,5,6,7,8,9,10,11,12,"
     ]
    }
   ],
   "source": [
    "# 48. Write a Python Program to Generate a Series like 1 2 3 4\t10\n",
    "\n",
    "n = int(input(\"Enter num : \"))\n",
    "\n",
    "for i in range (1,n+1):\n",
    "    print(i,end = \",\")"
   ]
  },
  {
   "cell_type": "code",
   "execution_count": 26,
   "id": "3c38bcfc",
   "metadata": {},
   "outputs": [
    {
     "name": "stdout",
     "output_type": "stream",
     "text": [
      "Enter numer : 345\n",
      "Not prefect number \n"
     ]
    }
   ],
   "source": [
    "# 49. Write a Python Program to check whether the given number is perfect (or magic) or not. A number is perfect if its sum of digits is same as multiplication of digit.\n",
    "# (e.g. 123 is perfect no. because 1+2+3 = 1*2*3)\n",
    "\n",
    "num = int(input(\"Enter numer : \"))\n",
    "\n",
    "sm = 0\n",
    "pr = 1\n",
    "\n",
    "while(num != 0):\n",
    "    r = num % 10\n",
    "    sm += r\n",
    "    pr *= r\n",
    "    num = num//10\n",
    "    \n",
    "if(sm == pr):\n",
    "    print(\"It is perfect number \")\n",
    "else : \n",
    "    print(\"Not prefect number \")\n",
    "    "
   ]
  },
  {
   "cell_type": "code",
   "execution_count": 28,
   "id": "57069702",
   "metadata": {},
   "outputs": [
    {
     "name": "stdout",
     "output_type": "stream",
     "text": [
      "Enter numer : 123\n",
      "It is Magic number \n"
     ]
    }
   ],
   "source": [
    "# 50. Write a Python Program to check whether the entered the number is magic number or not.\n",
    "\n",
    "num = int(input(\"Enter numer : \"))\n",
    "\n",
    "sm = 0\n",
    "pr = 1\n",
    "\n",
    "while(num != 0):\n",
    "    r = num % 10\n",
    "    sm += r\n",
    "    pr *= r\n",
    "    num = num//10\n",
    "    \n",
    "if(sm == pr):\n",
    "    print(\"It is Magic number \")\n",
    "else : \n",
    "    print(\"Not Magic number \")\n",
    "    "
   ]
  },
  {
   "cell_type": "code",
   "execution_count": 30,
   "id": "60bd2fa3",
   "metadata": {},
   "outputs": [
    {
     "name": "stdout",
     "output_type": "stream",
     "text": [
      "Enter num for print fib series sum: 12\n",
      "1,2,3,5,8,13,21,34,55,89,144,233,377,\n",
      "Sum of series :  985\n"
     ]
    }
   ],
   "source": [
    "# 51 . Write a Python Program to do the addition of the first n terms of the fibonacci series.\n",
    "\n",
    "f = int(input(\"Enter num for print fib series sum: \"))\n",
    "\n",
    "n1=0\n",
    "n2=1\n",
    "sm=0\n",
    "\n",
    "for i in range(0,f+1):\n",
    "    n3 = n1+n2\n",
    "    print(n3,end=\",\")\n",
    "    sm = sm+n3\n",
    "    n1 = n2\n",
    "    n2 = n3\n",
    "\n",
    "print(\"\")\n",
    "print(\"Sum of series : \",sm)"
   ]
  },
  {
   "cell_type": "code",
   "execution_count": 31,
   "id": "d3b51d04",
   "metadata": {},
   "outputs": [
    {
     "name": "stdout",
     "output_type": "stream",
     "text": [
      "Enter number : 13\n",
      "2,3,5,7,11,13,17,19,23,29,31,37,41,"
     ]
    }
   ],
   "source": [
    "# 52. Write a program to find first N prime number.\n",
    "\n",
    "def prime(n):\n",
    "    prime = True\n",
    "    i = 2\n",
    "    while i < n:\n",
    "        if n % i == 0:\n",
    "            prime = False\n",
    "        i +=1\n",
    "    \n",
    "    if prime == True :\n",
    "        return True\n",
    "    \n",
    "num = int(input(\"Enter number : \"))\n",
    "count = 0\n",
    "j =2\n",
    "while count < num:\n",
    "    if(prime(j)):\n",
    "        print(j,end=',')\n",
    "        count += 1\n",
    "    j += 1"
   ]
  },
  {
   "cell_type": "code",
   "execution_count": 32,
   "id": "ee2d5da5",
   "metadata": {},
   "outputs": [
    {
     "name": "stdout",
     "output_type": "stream",
     "text": [
      "Enter num : 8\n",
      "2,3,5,9,17,33,65,129,257,"
     ]
    }
   ],
   "source": [
    "# 53. Generate following series. 2\t3\t5\t9\t17\t33\t65\t…….n\n",
    "\n",
    "n = int(input(\"Enter num : \"))\n",
    "print(\"2\",end = \",\")\n",
    "\n",
    "\n",
    "for i in range(1,n+1):\n",
    "    sqr = 2**i\n",
    "    print(sqr+1,end=\",\")"
   ]
  },
  {
   "cell_type": "code",
   "execution_count": 43,
   "id": "e68bb14d",
   "metadata": {},
   "outputs": [
    {
     "name": "stdout",
     "output_type": "stream",
     "text": [
      "Enter rows : 5\n",
      "1 \n",
      "4 5 \n",
      "9 10 11 \n",
      "16 17 18 19 \n",
      "25 26 27 28 29 \n"
     ]
    }
   ],
   "source": [
    "#54.  Write a program to generate following output\n",
    "# 1\n",
    "# 4 5\n",
    "# 9 10 11\n",
    "# 16 17 18 19\n",
    "# ...\n",
    "\n",
    "row = int(input(\"Enter rows : \"))\n",
    "for i in range(1,row+1):\n",
    "    s = i**2\n",
    "    for j in range(i):\n",
    "        print(s+j,end=\" \")\n",
    "    print(\"\")\n"
   ]
  },
  {
   "cell_type": "code",
   "execution_count": 47,
   "id": "95a952fb",
   "metadata": {},
   "outputs": [
    {
     "name": "stdout",
     "output_type": "stream",
     "text": [
      "Enter row : 5\n",
      "\n",
      "* \n",
      "* * \n",
      "* * * \n",
      "* * * * \n",
      "* * * * * \n"
     ]
    }
   ],
   "source": [
    "# 55. Display the following triangle up to given lines.\n",
    "# *\n",
    "# * *\n",
    "# * * *\n",
    "# * * * *\n",
    "# * * * * *\n",
    "\n",
    "r = int(input(\"Enter row : \"))\n",
    "\n",
    "for i in range(0,r+1):\n",
    "    for j in range(0,i):\n",
    "        print(\"* \",end=\"\")\n",
    "    print(\"\")\n",
    "\n"
   ]
  },
  {
   "cell_type": "code",
   "execution_count": 49,
   "id": "100dde6c",
   "metadata": {},
   "outputs": [
    {
     "name": "stdout",
     "output_type": "stream",
     "text": [
      "Enter row : 7\n",
      "1 \n",
      "1 2 3 \n",
      "1 2 3 4 5 \n",
      "1 2 3 4 5 6 7 \n",
      "1 2 3 4 5 6 7 8 9 \n",
      "1 2 3 4 5 6 7 8 9 10 11 \n",
      "1 2 3 4 5 6 7 8 9 10 11 12 13 \n"
     ]
    }
   ],
   "source": [
    "# 56. Write a Python Program to generate the following output\n",
    "# 1\n",
    "# 123\n",
    "# 12345\n",
    "# 1234567\n",
    "# 123456789\n",
    "\n",
    "r = int(input(\"Enter row : \"))\n",
    "\n",
    "for i in range(1,r+1):\n",
    "    for j in range(1,2*i):\n",
    "        print(j,end=\" \")\n",
    "    print(\"\")\n"
   ]
  },
  {
   "cell_type": "code",
   "execution_count": 50,
   "id": "35f0923b",
   "metadata": {},
   "outputs": [
    {
     "name": "stdout",
     "output_type": "stream",
     "text": [
      "Enter num : 2\n",
      "Enter num : 6\n",
      "Enter num : 87\n",
      "Enter num : 45\n",
      "Enter num : 3\n",
      "Maximum num :  87\n",
      "Minimum num :  2\n"
     ]
    }
   ],
   "source": [
    "# 57. Accept 5 number as input and display minimum and maximum of them.\n",
    "\n",
    "l=[]\n",
    "\n",
    "for i in range(0,5):\n",
    "    n = int(input(\"Enter num : \"))\n",
    "    l.append(n)\n",
    "    \n",
    "    \n",
    "print(\"Maximum num : \",max(l))\n",
    "print(\"Minimum num : \",min(l))\n"
   ]
  },
  {
   "cell_type": "code",
   "execution_count": 52,
   "id": "85a0b8bb",
   "metadata": {},
   "outputs": [
    {
     "name": "stdout",
     "output_type": "stream",
     "text": [
      "Enter marks of subject 1 :45\n",
      "Enter marks of subject 2 :76\n",
      "Enter marks of subject 3 :89\n",
      "==================================\n",
      "-------------Result---------------\n",
      "==================================\n",
      "Total marks :  210\n",
      "percentage : 70.0 %\n",
      "Grade :  C grade\n"
     ]
    }
   ],
   "source": [
    "# 58. Input marks of 3 subjects. Prepare total, percentage and grade for a student.\n",
    "\n",
    "\n",
    "s1 = int(input(\"Enter marks of subject 1 :\"))\n",
    "s2 = int(input(\"Enter marks of subject 2 :\"))\n",
    "s3 = int(input(\"Enter marks of subject 3 :\"))\n",
    "\n",
    "total = s1 + s2 + s3 \n",
    "per = (total / 300)*100\n",
    "grade = 'a'\n",
    "\n",
    "if per>90:\n",
    "    grade = 'A'\n",
    "elif per>80 and per < 90:\n",
    "    grade = 'B'\n",
    "elif per>60 and per < 80:\n",
    "    grade = 'C'\n",
    "elif per>40 and per < 60:\n",
    "    grade = 'D'\n",
    "else :\n",
    "    grade = 'E'\n",
    "print(\"==================================\")\n",
    "print(\"-------------Result---------------\")\n",
    "print(\"==================================\")\n",
    "print(\"Total marks : \",total)\n",
    "print(\"percentage :\",per,\"%\")\n",
    "print(\"Grade : \",grade,\"grade\")"
   ]
  },
  {
   "cell_type": "code",
   "execution_count": 55,
   "id": "467cfefb",
   "metadata": {},
   "outputs": [
    {
     "name": "stdout",
     "output_type": "stream",
     "text": [
      "Enter number : 1234567\n",
      "Total digit of num :  7\n"
     ]
    }
   ],
   "source": [
    "# 59.Write a Python Program to input any number and count the no. of digits in that number.\n",
    "\n",
    "num = int(input(\"Enter number : \"))\n",
    "cnt = 0\n",
    "\n",
    "while(num != 0):\n",
    "    r = num % 10\n",
    "    cnt +=1\n",
    "    num //= 10\n",
    "\n",
    "print(\"Total digit of num : \",cnt)"
   ]
  },
  {
   "cell_type": "code",
   "execution_count": 56,
   "id": "14d5e4bf",
   "metadata": {},
   "outputs": [
    {
     "name": "stdout",
     "output_type": "stream",
     "text": [
      "Enter num for print fibb series which are prime :10\n",
      "1,2,3,5,13,89,"
     ]
    }
   ],
   "source": [
    "# 60. Write a program to print first 10 numbers of fibonacci series, which are prime numbers.\n",
    "\n",
    "def prime(n):\n",
    "    prime = True\n",
    "    \n",
    "    i = 2\n",
    "    while i < n:\n",
    "        if n % i == 0:\n",
    "            prime = False\n",
    "        i +=1\n",
    "    \n",
    "    if prime == True :\n",
    "        return True\n",
    "    \n",
    "n1 = 0\n",
    "n2 = 1\n",
    "c = 0\n",
    "\n",
    "num3 = int(input(\"Enter num for print fibb series which are prime :\"))\n",
    "\n",
    "while c <= num3:\n",
    "    n3 = n1+n2\n",
    "    if prime(n3):\n",
    "        print(n3,end=\",\")\n",
    "    n1 = n2\n",
    "    n2 = n3\n",
    "    c = c+1"
   ]
  },
  {
   "cell_type": "code",
   "execution_count": null,
   "id": "0d616c55",
   "metadata": {},
   "outputs": [],
   "source": []
  }
 ],
 "metadata": {
  "kernelspec": {
   "display_name": "Python 3 (ipykernel)",
   "language": "python",
   "name": "python3"
  },
  "language_info": {
   "codemirror_mode": {
    "name": "ipython",
    "version": 3
   },
   "file_extension": ".py",
   "mimetype": "text/x-python",
   "name": "python",
   "nbconvert_exporter": "python",
   "pygments_lexer": "ipython3",
   "version": "3.11.5"
  }
 },
 "nbformat": 4,
 "nbformat_minor": 5
}
