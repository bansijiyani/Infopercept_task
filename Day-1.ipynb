{
 "cells": [
  {
   "cell_type": "markdown",
   "id": "3b1863a8",
   "metadata": {},
   "source": [
    "#\n",
    "1. Print Simple Welcome message like “Welcome to the world of Python Programming”."
   ]
  },
  {
   "cell_type": "code",
   "execution_count": 1,
   "id": "89fc51dc",
   "metadata": {},
   "outputs": [
    {
     "name": "stdout",
     "output_type": "stream",
     "text": [
      "Welcome to the world of Python Programming\n"
     ]
    }
   ],
   "source": [
    "print(\"Welcome to the world of Python Programming\")"
   ]
  },
  {
   "cell_type": "markdown",
   "id": "d5748bc8",
   "metadata": {},
   "source": [
    "#\n",
    "2. Write a Python Program to print Your Personal Details like Name, Address, City, Pincode, PhoneNo etc.\n"
   ]
  },
  {
   "cell_type": "code",
   "execution_count": 2,
   "id": "48e07f38",
   "metadata": {},
   "outputs": [
    {
     "name": "stdout",
     "output_type": "stream",
     "text": [
      "------- Personal Information ---------\n",
      "Name : Bansari JIyani\n",
      "Address : Surat , Gujarat\n",
      "City : Surat\n",
      "Pincode : 395006\n",
      "Mobile No : 9016407466\n"
     ]
    }
   ],
   "source": [
    "print(\"------- Personal Information ---------\")\n",
    "print(\"Name : Bansari JIyani\")\n",
    "print(\"Address : Surat , Gujarat\")\n",
    "print(\"City : Surat\")\n",
    "print(\"Pincode : 395006\")\n",
    "print(\"Mobile No : 9016407466\")\n"
   ]
  },
  {
   "cell_type": "markdown",
   "id": "59ff9fd2",
   "metadata": {},
   "source": [
    "#\n",
    "3. Write a Python Program to print Book Details like Book Id, Book Title, AuthorName, PublisherName, Price etc.\n"
   ]
  },
  {
   "cell_type": "code",
   "execution_count": 4,
   "id": "e7882765",
   "metadata": {},
   "outputs": [
    {
     "name": "stdout",
     "output_type": "stream",
     "text": [
      "----- BOOK DETAILS -----\n",
      "Book Id : a20034\n",
      "Book Title : Atomic Habits\n",
      "Author Name : James Clear\n",
      "Publisher Name : Penguin Random House\n",
      "Price : 700\n"
     ]
    }
   ],
   "source": [
    "print(\"----- BOOK DETAILS -----\")\n",
    "print(\"Book Id : a20034\")\n",
    "print(\"Book Title : Atomic Habits\")\n",
    "print(\"Author Name : James Clear\")\n",
    "print(\"Publisher Name : Penguin Random House\")\n",
    "print(\"Price : 700\")"
   ]
  },
  {
   "cell_type": "markdown",
   "id": "3d13e942",
   "metadata": {},
   "source": [
    "#\n",
    "4. Write a Python Program to print any Product Information like Product ID, Product Name, Price etc."
   ]
  },
  {
   "cell_type": "code",
   "execution_count": 5,
   "id": "18cb2cfd",
   "metadata": {},
   "outputs": [
    {
     "name": "stdout",
     "output_type": "stream",
     "text": [
      "----- PRODUCT DETAILS -----\n",
      "Product Id : P12457\n",
      "Product Name : CPU\n",
      "Price : 5000\n"
     ]
    }
   ],
   "source": [
    "print(\"----- PRODUCT DETAILS -----\")\n",
    "print(\"Product Id : P12457\")\n",
    "print(\"Product Name : CPU\")\n",
    "print(\"Price : 5000\")"
   ]
  },
  {
   "cell_type": "markdown",
   "id": "5cc72cc0",
   "metadata": {},
   "source": [
    "#\n",
    "5. Write a Python Program to print mark sheet.\n"
   ]
  },
  {
   "cell_type": "code",
   "execution_count": 6,
   "id": "205693d9",
   "metadata": {},
   "outputs": [
    {
     "name": "stdout",
     "output_type": "stream",
     "text": [
      "Enter roll no :60\n",
      "Enter name :bansri jiyani\n",
      "Enter marks of subject 1 :80\n",
      "Enter marks of subject 2 :77\n",
      "Enter marks of subject 3 :89\n",
      "Enter marks of subject 4 :87\n",
      "==================================\n",
      "-------------Result---------------\n",
      "==================================\n",
      "Total marks :  333\n",
      "percentage : 83.25 %\n",
      "Grade :  B grade\n"
     ]
    }
   ],
   "source": [
    "r_no = int(input(\"Enter roll no :\"))\n",
    "s_name = input(\"Enter name :\")\n",
    "s1 = int(input(\"Enter marks of subject 1 :\"))\n",
    "s2 = int(input(\"Enter marks of subject 2 :\"))\n",
    "s3 = int(input(\"Enter marks of subject 3 :\"))\n",
    "s4 = int(input(\"Enter marks of subject 4 :\"))\n",
    "total_marks = s1 + s2 + s3 + s4\n",
    "per = (total_marks / 400)*100\n",
    "grade = 'a'\n",
    "\n",
    "if per>90:\n",
    "    grade = 'A'\n",
    "elif per>80 and per < 90:\n",
    "    grade = 'B'\n",
    "elif per>60 and per < 80:\n",
    "    grade = 'C'\n",
    "elif per>40 and per < 60:\n",
    "    grade = 'D'\n",
    "else :\n",
    "    grade = 'E'\n",
    "print(\"==================================\")\n",
    "print(\"-------------Result---------------\")\n",
    "print(\"==================================\")\n",
    "print(\"Total marks : \",total_marks)\n",
    "print(\"percentage :\",per,\"%\")\n",
    "print(\"Grade : \",grade,\"grade\")"
   ]
  },
  {
   "cell_type": "markdown",
   "id": "b7d9bc2d",
   "metadata": {},
   "source": [
    "#\n",
    "6. Write a Python Program to print the following string. (Use of Escape Sequence for “ ” DOUBLE QUATE) Someone Said “Nothing is Impossible in this World”.\n"
   ]
  },
  {
   "cell_type": "code",
   "execution_count": 9,
   "id": "51f0b803",
   "metadata": {},
   "outputs": [
    {
     "name": "stdout",
     "output_type": "stream",
     "text": [
      "Someone Said \"Nothing is Impossible in this World\" \n"
     ]
    }
   ],
   "source": [
    "s = \"Someone Said \\\"Nothing is Impossible in this World\\\" \"\n",
    "print(s)"
   ]
  },
  {
   "cell_type": "markdown",
   "id": "95139340",
   "metadata": {},
   "source": [
    "#\n",
    "8. Write a Python Program to display your visiting card.\n"
   ]
  },
  {
   "cell_type": "code",
   "execution_count": 13,
   "id": "b8a32d6b",
   "metadata": {},
   "outputs": [
    {
     "name": "stdout",
     "output_type": "stream",
     "text": [
      "------- Visiting Card -------\n",
      "Shop Name : Art Gallary \n",
      "Owner Name :  Bansari Jiyani \n",
      "Gmail :  bansijiyani@gmail.com \n",
      "Mobile No : 9014539893 \n",
      "WhatsApp No :  3457652365\n"
     ]
    }
   ],
   "source": [
    "shop_name = \"Art Gallary\"\n",
    "owner = \"Bansari Jiyani\"\n",
    "mail = \"bansijiyani@gmail.com\"\n",
    "m_no = 9014539893\n",
    "w_no = 3457652365\n",
    "\n",
    "print(\"------- Visiting Card -------\\nShop Name :\",shop_name,\"\\nOwner Name : \",owner,\"\\nGmail : \",mail,\"\\nMobile No :\",m_no,\"\\nWhatsApp No : \",w_no)\n",
    "\n"
   ]
  },
  {
   "cell_type": "markdown",
   "id": "aaefdf90",
   "metadata": {},
   "source": [
    "#\n",
    "9. Write a Python Program to display your visiting card.\n",
    "Write a Python Program to print the following string. (Use of Escape Sequence for ‘ ’ SINGLE QUATE) Someone Said ‘God is Great’.\n"
   ]
  },
  {
   "cell_type": "code",
   "execution_count": 11,
   "id": "322f637a",
   "metadata": {},
   "outputs": [
    {
     "name": "stdout",
     "output_type": "stream",
     "text": [
      "Someone said 'God is great'\n"
     ]
    }
   ],
   "source": [
    "s_q = \"Someone said \\'God is great\\'\"\n",
    "print(s_q)"
   ]
  },
  {
   "cell_type": "markdown",
   "id": "8fc39f10",
   "metadata": {},
   "source": [
    "10."
   ]
  },
  {
   "cell_type": "code",
   "execution_count": 14,
   "id": "33e92d2a",
   "metadata": {},
   "outputs": [
    {
     "name": "stdout",
     "output_type": "stream",
     "text": [
      "Enter your collage name : DDU\n",
      "Enter your Stream :MCA\n",
      "Enter year :2\n",
      "Enter semester : 3\n",
      "Collage Name :  DDU\n",
      "Stream :  MCA\n",
      "Year :  2\n",
      "Semester :  3\n"
     ]
    }
   ],
   "source": [
    "collage = input(\"Enter your collage name : \")\n",
    "stream = input(\"Enter your Stream :\")\n",
    "y = input(\"Enter year :\")\n",
    "s = input(\"Enter semester : \")\n",
    "\n",
    "\n",
    "print(\"--------- Collage information---------\")\n",
    "print(\"Collage Name : \",collage)\n",
    "print(\"Stream : \",stream)\n",
    "print(\"Year : \",y)\n",
    "print(\"Semester : \",s)"
   ]
  },
  {
   "cell_type": "markdown",
   "id": "ad6d0df4",
   "metadata": {},
   "source": [
    "11."
   ]
  },
  {
   "cell_type": "code",
   "execution_count": 18,
   "id": "3e1b2d0c",
   "metadata": {},
   "outputs": [
    {
     "name": "stdout",
     "output_type": "stream",
     "text": [
      "Enter integer value :4\n",
      "Enter float value :7.8\n",
      "Nuber 1 : 4\n",
      "Number 2:  7.8\n"
     ]
    }
   ],
   "source": [
    "n1 = int(input(\"Enter integer value :\"))\n",
    "n2 = float(input(\"Enter float value :\"))\n",
    "print(\"Nuber 1 :\",n1)\n",
    "print(\"Number 2: \",n2)"
   ]
  },
  {
   "cell_type": "markdown",
   "id": "427dda1a",
   "metadata": {},
   "source": [
    "12"
   ]
  },
  {
   "cell_type": "code",
   "execution_count": 20,
   "id": "1f2a5dea",
   "metadata": {},
   "outputs": [
    {
     "name": "stdout",
     "output_type": "stream",
     "text": [
      "Enter dollar :1\n",
      "Rupees :  80\n"
     ]
    }
   ],
   "source": [
    "d = int(input(\"Enter dollar :\"))\n",
    "r = d * 80\n",
    "print(\"Rupees : \",r)"
   ]
  },
  {
   "cell_type": "markdown",
   "id": "44a1bc82",
   "metadata": {},
   "source": [
    "13."
   ]
  },
  {
   "cell_type": "code",
   "execution_count": 21,
   "id": "29538ee3",
   "metadata": {},
   "outputs": [
    {
     "name": "stdout",
     "output_type": "stream",
     "text": [
      "Enter Rupees :20\n",
      "Dollar :  0.25\n"
     ]
    }
   ],
   "source": [
    "r = int(input(\"Enter Rupees :\"))\n",
    "d = r/80\n",
    "print(\"Dollar : \",d)"
   ]
  },
  {
   "cell_type": "markdown",
   "id": "bc656adc",
   "metadata": {},
   "source": [
    "14."
   ]
  },
  {
   "cell_type": "code",
   "execution_count": 22,
   "id": "b75c687b",
   "metadata": {},
   "outputs": [
    {
     "name": "stdout",
     "output_type": "stream",
     "text": [
      "Enter Liter :1\n",
      "Mililiter : 1000\n"
     ]
    }
   ],
   "source": [
    "l = int(input(\"Enter Liter :\"))\n",
    "m = l * 1000\n",
    "print(\"Mililiter :\",m)"
   ]
  },
  {
   "cell_type": "markdown",
   "id": "f42ba2cc",
   "metadata": {},
   "source": [
    "15."
   ]
  },
  {
   "cell_type": "code",
   "execution_count": 23,
   "id": "3de8ca0f",
   "metadata": {},
   "outputs": [
    {
     "name": "stdout",
     "output_type": "stream",
     "text": [
      "Enter fehrenhit : 45\n",
      "Celsius : 7.222222222222222\n"
     ]
    }
   ],
   "source": [
    "f = int(input(\"Enter fehrenhit : \"))\n",
    "c = (f-32)/1.8\n",
    "print(\"Celsius :\",c)"
   ]
  },
  {
   "cell_type": "markdown",
   "id": "d731589e",
   "metadata": {},
   "source": [
    "16."
   ]
  },
  {
   "cell_type": "code",
   "execution_count": 24,
   "id": "7544c7c7",
   "metadata": {},
   "outputs": [
    {
     "name": "stdout",
     "output_type": "stream",
     "text": [
      "Enter kilometer :23\n",
      "Miter :  23000\n",
      "Centimeter :  2300000\n"
     ]
    }
   ],
   "source": [
    "km = int(input(\"Enter kilometer :\"))\n",
    "m = km * 1000\n",
    "cm = m * 100\n",
    "print(\"Miter : \",m)\n",
    "print(\"Centimeter : \",cm)"
   ]
  },
  {
   "cell_type": "markdown",
   "id": "b06019a3",
   "metadata": {},
   "source": [
    "17."
   ]
  },
  {
   "cell_type": "code",
   "execution_count": 26,
   "id": "4dc7ee52",
   "metadata": {},
   "outputs": [
    {
     "name": "stdout",
     "output_type": "stream",
     "text": [
      "Enter pound :1\n",
      "Rupees :  90\n"
     ]
    }
   ],
   "source": [
    "p = int(input(\"Enter pound :\"))\n",
    "r = p*90\n",
    "print(\"Rupees : \",r)"
   ]
  },
  {
   "cell_type": "code",
   "execution_count": null,
   "id": "700df6f9",
   "metadata": {},
   "outputs": [],
   "source": []
  },
  {
   "cell_type": "code",
   "execution_count": 27,
   "id": "e2c75196",
   "metadata": {},
   "outputs": [
    {
     "name": "stdout",
     "output_type": "stream",
     "text": [
      "Enter Dollar :2\n",
      "Pound : 1.0\n"
     ]
    }
   ],
   "source": [
    "dollar = int(input(\"Enter Dollar :\"))\n",
    "p = dollar/2\n",
    "print(\"Pound :\",p)"
   ]
  },
  {
   "cell_type": "code",
   "execution_count": null,
   "id": "376c1049",
   "metadata": {},
   "outputs": [],
   "source": []
  },
  {
   "cell_type": "code",
   "execution_count": 28,
   "id": "b3cdef06",
   "metadata": {},
   "outputs": [
    {
     "name": "stdout",
     "output_type": "stream",
     "text": [
      "Enter kg: 3\n",
      "Grams:  3000.0\n"
     ]
    }
   ],
   "source": [
    "kg = float(input(\"Enter kg: \"))\n",
    "g = kg * 1000\n",
    "print(\"Grams: \", g)\n"
   ]
  },
  {
   "cell_type": "code",
   "execution_count": null,
   "id": "e9fc89c7",
   "metadata": {},
   "outputs": [],
   "source": []
  },
  {
   "cell_type": "code",
   "execution_count": 29,
   "id": "b3cefcdc",
   "metadata": {},
   "outputs": [
    {
     "name": "stdout",
     "output_type": "stream",
     "text": [
      "Enter grams: 4500\n",
      "Kg:  4.5\n"
     ]
    }
   ],
   "source": [
    "g = float(input(\"Enter grams: \"))\n",
    "kg = g / 1000\n",
    "print(\"Kg: \", kg)\n"
   ]
  },
  {
   "cell_type": "code",
   "execution_count": null,
   "id": "c4154d9c",
   "metadata": {},
   "outputs": [],
   "source": []
  },
  {
   "cell_type": "code",
   "execution_count": 30,
   "id": "2ef256b6",
   "metadata": {},
   "outputs": [
    {
     "name": "stdout",
     "output_type": "stream",
     "text": [
      "Enter number 1: 23\n",
      "Enter number 2: 37\n",
      "Add:  60.0\n",
      "Sub:  -14.0\n",
      "Mul:  851.0\n",
      "Div:  0.6216216216216216\n"
     ]
    }
   ],
   "source": [
    "a = float(input(\"Enter number 1: \"))\n",
    "b = float(input(\"Enter number 2: \"))\n",
    "\n",
    "add = a + b\n",
    "sub = a - b\n",
    "mul = a * b\n",
    "div = a / b\n",
    "\n",
    "print(\"Add: \", add)\n",
    "print(\"Sub: \", sub)\n",
    "print(\"Mul: \", mul)\n",
    "print(\"Div: \", div)\n"
   ]
  },
  {
   "cell_type": "code",
   "execution_count": null,
   "id": "8dcab6a0",
   "metadata": {},
   "outputs": [],
   "source": []
  },
  {
   "cell_type": "code",
   "execution_count": 31,
   "id": "9cb334e1",
   "metadata": {},
   "outputs": [
    {
     "name": "stdout",
     "output_type": "stream",
     "text": [
      "Enter number: 3\n",
      "Square:  9.0\n",
      "Cube:  27.0\n"
     ]
    }
   ],
   "source": [
    "num = float(input(\"Enter number: \"))\n",
    "sq = num ** 2\n",
    "cube = num ** 3\n",
    "\n",
    "print(\"Square: \", sq)\n",
    "print(\"Cube: \", cube)\n"
   ]
  },
  {
   "cell_type": "code",
   "execution_count": null,
   "id": "34de84d8",
   "metadata": {},
   "outputs": [],
   "source": []
  },
  {
   "cell_type": "code",
   "execution_count": 32,
   "id": "90250d60",
   "metadata": {},
   "outputs": [
    {
     "name": "stdout",
     "output_type": "stream",
     "text": [
      "Enter age 1: 23\n",
      "Enter age 2: 45\n",
      "Enter age 3: 78\n",
      "Avg age:  48.666666666666664\n"
     ]
    }
   ],
   "source": [
    "age1 = int(input(\"Enter age 1: \"))\n",
    "age2 = int(input(\"Enter age 2: \"))\n",
    "age3 = int(input(\"Enter age 3: \"))\n",
    "\n",
    "avg = (age1 + age2 + age3) / 3\n",
    "\n",
    "print(\"Avg age: \", avg)"
   ]
  },
  {
   "cell_type": "code",
   "execution_count": null,
   "id": "e70137af",
   "metadata": {},
   "outputs": [],
   "source": []
  },
  {
   "cell_type": "code",
   "execution_count": 33,
   "id": "bf60c86b",
   "metadata": {},
   "outputs": [
    {
     "name": "stdout",
     "output_type": "stream",
     "text": [
      "Enter radius: 4\n",
      "Area:  50.24\n"
     ]
    }
   ],
   "source": [
    "r = float(input(\"Enter radius: \"))\n",
    "area = 3.14 * r ** 2\n",
    "\n",
    "print(\"Area: \", area)\n"
   ]
  },
  {
   "cell_type": "code",
   "execution_count": null,
   "id": "33843dc9",
   "metadata": {},
   "outputs": [],
   "source": []
  },
  {
   "cell_type": "code",
   "execution_count": 34,
   "id": "1c0cae2d",
   "metadata": {},
   "outputs": [
    {
     "name": "stdout",
     "output_type": "stream",
     "text": [
      "Enter radius: 34\n",
      "Circumference:  213.52\n"
     ]
    }
   ],
   "source": [
    "r = float(input(\"Enter radius: \"))\n",
    "circumference = 2 * 3.14 * r\n",
    "\n",
    "print(\"Circumference: \", circumference)\n"
   ]
  },
  {
   "cell_type": "code",
   "execution_count": null,
   "id": "1cf3c1b8",
   "metadata": {},
   "outputs": [],
   "source": []
  },
  {
   "cell_type": "code",
   "execution_count": 35,
   "id": "3be948b7",
   "metadata": {},
   "outputs": [
    {
     "name": "stdout",
     "output_type": "stream",
     "text": [
      "Enter principal: 3400\n",
      "Enter rate: 45\n",
      "Enter time: 6\n",
      "SI:  9180.0\n"
     ]
    }
   ],
   "source": [
    "P = float(input(\"Enter principal: \"))\n",
    "R = float(input(\"Enter rate: \"))\n",
    "N = int(input(\"Enter time: \"))\n",
    "\n",
    "SI = (P * R * N) / 100\n",
    "\n",
    "print(\"SI: \", SI)\n"
   ]
  },
  {
   "cell_type": "code",
   "execution_count": null,
   "id": "5ddd6ace",
   "metadata": {},
   "outputs": [],
   "source": []
  },
  {
   "cell_type": "code",
   "execution_count": 36,
   "id": "46fe6ed2",
   "metadata": {},
   "outputs": [
    {
     "name": "stdout",
     "output_type": "stream",
     "text": [
      "Enter principal: 3459\n",
      "Enter rate: 56\n",
      "Enter time: 5\n",
      "CI:  28498.55564451841\n"
     ]
    }
   ],
   "source": [
    "P = float(input(\"Enter principal: \"))\n",
    "R = float(input(\"Enter rate: \"))\n",
    "N = int(input(\"Enter time: \"))\n",
    "CI = P * (1 + R / 100) ** N - P\n",
    "\n",
    "print(\"CI: \", CI)\n"
   ]
  },
  {
   "cell_type": "code",
   "execution_count": null,
   "id": "8fbdee8b",
   "metadata": {},
   "outputs": [],
   "source": []
  },
  {
   "cell_type": "code",
   "execution_count": 37,
   "id": "dd018b11",
   "metadata": {},
   "outputs": [
    {
     "name": "stdout",
     "output_type": "stream",
     "text": [
      "Enter Amount: 1000\n",
      "Enter rate: 2\n",
      "Enter time: 5\n",
      "SI:  100.0\n",
      "CI:  104.08080319999999\n",
      "Diff:  4.080803199999991\n"
     ]
    }
   ],
   "source": [
    "P = float(input(\"Enter Amount: \"))\n",
    "R = float(input(\"Enter rate: \"))\n",
    "N = float(input(\"Enter time: \"))\n",
    "\n",
    "SI = (P * R * N) / 100\n",
    "CI = P * (1 + R / 100) ** N - P\n",
    "diff = CI - SI\n",
    "\n",
    "print(\"SI: \", SI)\n",
    "print(\"CI: \", CI)\n",
    "print(\"Diff: \", diff)\n"
   ]
  },
  {
   "cell_type": "code",
   "execution_count": null,
   "id": "f94fbd38",
   "metadata": {},
   "outputs": [],
   "source": []
  },
  {
   "cell_type": "code",
   "execution_count": 38,
   "id": "ad3e1d59",
   "metadata": {},
   "outputs": [
    {
     "name": "stdout",
     "output_type": "stream",
     "text": [
      "Enter first number: 2\n",
      "Enter second number: 5\n",
      "After swap a:  5\n",
      "After swap b:  2\n"
     ]
    }
   ],
   "source": [
    "a = int(input(\"Enter first number: \"))\n",
    "b = int(input(\"Enter second number: \"))\n",
    "\n",
    "temp = a\n",
    "a = b\n",
    "b = temp\n",
    "\n",
    "print(\"After swap a: \", a)\n",
    "print(\"After swap b: \", b)\n"
   ]
  },
  {
   "cell_type": "code",
   "execution_count": null,
   "id": "a7c26f0e",
   "metadata": {},
   "outputs": [],
   "source": []
  },
  {
   "cell_type": "code",
   "execution_count": 39,
   "id": "0cc8d5b2",
   "metadata": {},
   "outputs": [
    {
     "name": "stdout",
     "output_type": "stream",
     "text": [
      "Enter first number: 2\n",
      "Enter second number: 7\n",
      "After swap a:  7\n",
      "After swap b:  2\n"
     ]
    }
   ],
   "source": [
    "a = int(input(\"Enter first number: \"))\n",
    "b = int(input(\"Enter second number: \"))\n",
    "\n",
    "a = a+b\n",
    "b = a-b\n",
    "a = a -b\n",
    "\n",
    "print(\"After swap a: \", a)\n",
    "print(\"After swap b: \", b)\n"
   ]
  },
  {
   "cell_type": "code",
   "execution_count": null,
   "id": "8d029c68",
   "metadata": {},
   "outputs": [],
   "source": []
  },
  {
   "cell_type": "code",
   "execution_count": 40,
   "id": "82420d47",
   "metadata": {},
   "outputs": [
    {
     "name": "stdout",
     "output_type": "stream",
     "text": [
      "Enter basic salary: 23456\n",
      "Gross salary:  37529.6\n"
     ]
    }
   ],
   "source": [
    "basic = int(input(\"Enter basic salary: \"))\n",
    "\n",
    "da = 0.40 * basic\n",
    "hra = 0.20 * basic\n",
    "gross = basic + da + hra\n",
    "\n",
    "print(\"Gross salary: \", gross)\n"
   ]
  },
  {
   "cell_type": "code",
   "execution_count": null,
   "id": "edd76e34",
   "metadata": {},
   "outputs": [],
   "source": []
  },
  {
   "cell_type": "code",
   "execution_count": 41,
   "id": "fb78942e",
   "metadata": {},
   "outputs": [
    {
     "name": "stdout",
     "output_type": "stream",
     "text": [
      "Enter distance in km: 23\n",
      "Meters:  23000\n",
      "Feet:  76590.0\n",
      "Inches:  919080.0\n",
      "CM:  2300000\n"
     ]
    }
   ],
   "source": [
    "km = int(input(\"Enter distance in km: \"))\n",
    "\n",
    "meters = km * 1000\n",
    "feet = meters * 3.33\n",
    "inches = feet * 12\n",
    "cm = meters * 100\n",
    "\n",
    "print(\"Meters: \", meters)\n",
    "print(\"Feet: \", feet)\n",
    "print(\"Inches: \", inches)\n",
    "print(\"CM: \", cm)\n"
   ]
  },
  {
   "cell_type": "code",
   "execution_count": null,
   "id": "71e085db",
   "metadata": {},
   "outputs": [],
   "source": []
  },
  {
   "cell_type": "code",
   "execution_count": 42,
   "id": "f683c263",
   "metadata": {},
   "outputs": [
    {
     "name": "stdout",
     "output_type": "stream",
     "text": [
      "Enter days: 23\n",
      "Years:  0\n",
      "Months:  0\n",
      "Days:  23\n"
     ]
    }
   ],
   "source": [
    "days = int(input(\"Enter days: \"))\n",
    "\n",
    "years = days // 365\n",
    "days = days % 365\n",
    "months = days // 30\n",
    "days = days % 30\n",
    "\n",
    "print(\"Years: \", years)\n",
    "print(\"Months: \", months)\n",
    "print(\"Days: \", days)\n"
   ]
  },
  {
   "cell_type": "code",
   "execution_count": null,
   "id": "dfb949f2",
   "metadata": {},
   "outputs": [],
   "source": []
  },
  {
   "cell_type": "code",
   "execution_count": 44,
   "id": "29eaef30",
   "metadata": {},
   "outputs": [
    {
     "name": "stdout",
     "output_type": "stream",
     "text": [
      "Enter price: 2300\n",
      "Depreciation:  529.0\n"
     ]
    }
   ],
   "source": [
    "price = int(input(\"Enter price: \"))\n",
    "d = 0.23 * price\n",
    "print(\"Depreciation: \", d)"
   ]
  },
  {
   "cell_type": "code",
   "execution_count": null,
   "id": "be34aa35",
   "metadata": {},
   "outputs": [],
   "source": []
  },
  {
   "cell_type": "code",
   "execution_count": 45,
   "id": "d440378e",
   "metadata": {},
   "outputs": [
    {
     "name": "stdout",
     "output_type": "stream",
     "text": [
      "Enter sale amount: 1000\n",
      "Discount:  75.0\n"
     ]
    }
   ],
   "source": [
    "sale = int(input(\"Enter sale amount: \"))\n",
    "disc = 0.075 * sale\n",
    "print(\"Discount: \", disc)"
   ]
  },
  {
   "cell_type": "code",
   "execution_count": null,
   "id": "5f1ef040",
   "metadata": {},
   "outputs": [],
   "source": []
  },
  {
   "cell_type": "code",
   "execution_count": 46,
   "id": "5e4edb48",
   "metadata": {},
   "outputs": [
    {
     "name": "stdout",
     "output_type": "stream",
     "text": [
      "Enter base salary: 60000\n",
      "Enter quantity: 50\n",
      "Enter price: 2500\n",
      "Gross salary:  86250.0\n"
     ]
    }
   ],
   "source": [
    "b_s = float(input(\"Enter base salary: \"))\n",
    "qty = float(input(\"Enter quantity: \"))\n",
    "price = float(input(\"Enter price: \"))\n",
    "\n",
    "total_amt = qty * price\n",
    "bonus = 0.125 * total_amt\n",
    "commission = 0.085 * total_amt\n",
    "gross_salary = b_s + bonus + commission\n",
    "\n",
    "print(\"Gross salary: \", gross_salary)\n"
   ]
  },
  {
   "cell_type": "code",
   "execution_count": null,
   "id": "787d3bfc",
   "metadata": {},
   "outputs": [],
   "source": []
  },
  {
   "cell_type": "code",
   "execution_count": 47,
   "id": "2e7c0117",
   "metadata": {},
   "outputs": [
    {
     "name": "stdout",
     "output_type": "stream",
     "text": [
      "Enter number: 23\n",
      "x:  23\n",
      "y:  0\n"
     ]
    }
   ],
   "source": [
    "n = float(input(\"Enter number: \"))\n",
    "\n",
    "x = int(n)\n",
    "y = int((n - x) * 100)\n",
    "\n",
    "print(\"x: \", x)\n",
    "print(\"y: \", y)\n"
   ]
  },
  {
   "cell_type": "code",
   "execution_count": null,
   "id": "3cdcc781",
   "metadata": {},
   "outputs": [],
   "source": []
  },
  {
   "cell_type": "code",
   "execution_count": 48,
   "id": "6cb12952",
   "metadata": {},
   "outputs": [
    {
     "name": "stdout",
     "output_type": "stream",
     "text": [
      "Enter number: 4590\n",
      "Right most digit:  0\n"
     ]
    }
   ],
   "source": [
    "n = int(input(\"Enter number: \"))\n",
    "right_digit = int(n) % 10\n",
    "print(\"Right most digit: \", right_digit)"
   ]
  },
  {
   "cell_type": "code",
   "execution_count": null,
   "id": "0c55ccd4",
   "metadata": {},
   "outputs": [],
   "source": []
  },
  {
   "cell_type": "code",
   "execution_count": 49,
   "id": "8db65e74",
   "metadata": {},
   "outputs": [
    {
     "name": "stdout",
     "output_type": "stream",
     "text": [
      "Enter number: 34567\n",
      "Right most two digits:  67\n"
     ]
    }
   ],
   "source": [
    "n = float(input(\"Enter number: \"))\n",
    "td = int(n) % 100\n",
    "print(\"Right most two digits: \", td)\n"
   ]
  },
  {
   "cell_type": "code",
   "execution_count": null,
   "id": "9d40d706",
   "metadata": {},
   "outputs": [],
   "source": []
  },
  {
   "cell_type": "code",
   "execution_count": 50,
   "id": "80500d02",
   "metadata": {},
   "outputs": [
    {
     "name": "stdout",
     "output_type": "stream",
     "text": [
      "Enter length: 10\n",
      "Enter breadth: 10\n",
      "Enter height: 10\n",
      "Area:  1000.0\n"
     ]
    }
   ],
   "source": [
    "l = float(input(\"Enter length: \"))\n",
    "b = float(input(\"Enter breadth: \"))\n",
    "h = float(input(\"Enter height: \"))\n",
    "area = l * b * h\n",
    "print(\"Area: \", area)"
   ]
  },
  {
   "cell_type": "code",
   "execution_count": null,
   "id": "ad77ff94",
   "metadata": {},
   "outputs": [],
   "source": []
  }
 ],
 "metadata": {
  "kernelspec": {
   "display_name": "Python 3 (ipykernel)",
   "language": "python",
   "name": "python3"
  },
  "language_info": {
   "codemirror_mode": {
    "name": "ipython",
    "version": 3
   },
   "file_extension": ".py",
   "mimetype": "text/x-python",
   "name": "python",
   "nbconvert_exporter": "python",
   "pygments_lexer": "ipython3",
   "version": "3.11.5"
  }
 },
 "nbformat": 4,
 "nbformat_minor": 5
}
