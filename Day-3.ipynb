{
 "cells": [
  {
   "cell_type": "markdown",
   "id": "4f74ab61",
   "metadata": {},
   "source": [
    "1."
   ]
  },
  {
   "cell_type": "code",
   "execution_count": 3,
   "id": "7837097a",
   "metadata": {},
   "outputs": [
    {
     "name": "stdout",
     "output_type": "stream",
     "text": [
      "Enter any number :19\n",
      "Number not divisible by 9\n"
     ]
    }
   ],
   "source": [
    "# Write a Python Program to accept any number and check whether it is divisible by 9 or not\n",
    "\n",
    "n = int(input(\"Enter any number :\"))\n",
    "if(n%9 == 0):\n",
    "    print(\"Number is divisible by 9\")\n",
    "else:\n",
    "    print(\"Number not divisible by 9\")\n"
   ]
  },
  {
   "cell_type": "markdown",
   "id": "4aa773d9",
   "metadata": {},
   "source": [
    "2."
   ]
  },
  {
   "cell_type": "code",
   "execution_count": 5,
   "id": "9db61a0e",
   "metadata": {},
   "outputs": [
    {
     "name": "stdout",
     "output_type": "stream",
     "text": [
      "Enter the number :-2\n",
      "Negative Number\n"
     ]
    }
   ],
   "source": [
    "# Write a Python Program to accept any number and check whether it is positive or negative\n",
    "# (a) Using if…elif\t(b) Using Multiple if (c) Using Ternary Operator\n",
    "\n",
    "\n",
    "n1 = int(input(\"Enter the number :\"))\n",
    "\n",
    "if(n1>0):\n",
    "    print(\"Positive number\")\n",
    "else:\n",
    "    print(\"Negative Number\")"
   ]
  },
  {
   "cell_type": "code",
   "execution_count": 7,
   "id": "149c5373",
   "metadata": {},
   "outputs": [
    {
     "name": "stdout",
     "output_type": "stream",
     "text": [
      "Enter the number :-5\n",
      "NEgative number\n"
     ]
    }
   ],
   "source": [
    "n2 = int(input(\"Enter the number :\"))\n",
    "\n",
    "if(n2 > 0):\n",
    "    print(\"Positive Number\")\n",
    "if(n2 < 0):\n",
    "    print(\"NEgative number\")"
   ]
  },
  {
   "cell_type": "code",
   "execution_count": 10,
   "id": "67318591",
   "metadata": {},
   "outputs": [
    {
     "name": "stdout",
     "output_type": "stream",
     "text": [
      "Enter num :-5\n",
      "Negative number\n"
     ]
    }
   ],
   "source": [
    "n3 = int(input(\"Enter num :\"))\n",
    "\n",
    "print(\"Positive number\") if(n3 > 0) else print(\"Negative number\")"
   ]
  },
  {
   "cell_type": "code",
   "execution_count": null,
   "id": "0b1768a5",
   "metadata": {},
   "outputs": [],
   "source": []
  },
  {
   "cell_type": "markdown",
   "id": "10c3a707",
   "metadata": {},
   "source": [
    "3."
   ]
  },
  {
   "cell_type": "code",
   "execution_count": 11,
   "id": "cc2e5d6e",
   "metadata": {},
   "outputs": [
    {
     "name": "stdout",
     "output_type": "stream",
     "text": [
      "Enter the number :4\n",
      "Even number\n"
     ]
    }
   ],
   "source": [
    "# Write a program to read any number and determine whether a number is “ODD” or “EVEN” and print the message NUMBER IS ODD or NUMBER IS EVEN.\n",
    "# (a) Using if…elif\t(b) Using Multiple if (c) Using Ternary Operator\n",
    "\n",
    "\n",
    "num1 = int(input(\"Enter the number :\"))\n",
    "\n",
    "if(num1 % 2 == 0):\n",
    "    print(\"Even number\")\n",
    "else:\n",
    "    print(\"Odd Number\")"
   ]
  },
  {
   "cell_type": "code",
   "execution_count": 12,
   "id": "7d34c104",
   "metadata": {},
   "outputs": [
    {
     "name": "stdout",
     "output_type": "stream",
     "text": [
      "Enter the number :45\n",
      "Odd number\n"
     ]
    }
   ],
   "source": [
    "num2 = int(input(\"Enter the number :\"))\n",
    "\n",
    "if(num2 % 2 == 0):\n",
    "    print(\"Even Number\")\n",
    "if(num2 % 2 != 0):\n",
    "    print(\"Odd number\")"
   ]
  },
  {
   "cell_type": "code",
   "execution_count": 13,
   "id": "581d8f4f",
   "metadata": {},
   "outputs": [
    {
     "name": "stdout",
     "output_type": "stream",
     "text": [
      "Enter the number :43\n",
      "Odd number\n"
     ]
    }
   ],
   "source": [
    "num3 = int(input(\"Enter the number :\"))\n",
    "\n",
    "print(\"Even Number\") if(num3 % 2==0) else print(\"Odd number\")"
   ]
  },
  {
   "cell_type": "code",
   "execution_count": null,
   "id": "7f499931",
   "metadata": {},
   "outputs": [],
   "source": []
  },
  {
   "cell_type": "markdown",
   "id": "6051794a",
   "metadata": {},
   "source": [
    "4."
   ]
  },
  {
   "cell_type": "code",
   "execution_count": 21,
   "id": "ff9058b0",
   "metadata": {},
   "outputs": [
    {
     "name": "stdout",
     "output_type": "stream",
     "text": [
      "Enter year in 4 digit :2010\n",
      "Not leap year\n"
     ]
    }
   ],
   "source": [
    "# Write a Python Program to accept any year in four digits and check whether it is Leap Year or not.\n",
    "# (a) Using if…elif\t(b) Using Multiple if (c) Using Ternary Operator\n",
    "\n",
    "\n",
    "y = int(input(\"Enter year in 4 digit :\"))\n",
    "\n",
    "if(y%400 == 0) or (y%4==0 and y%100!=0):\n",
    "    print(\"Leap year\")\n",
    "else:\n",
    "    print(\"Not leap year\")"
   ]
  },
  {
   "cell_type": "code",
   "execution_count": 31,
   "id": "105911ee",
   "metadata": {},
   "outputs": [
    {
     "name": "stdout",
     "output_type": "stream",
     "text": [
      "Enter year in 4 digit :1234\n",
      "Not a leap year\n"
     ]
    }
   ],
   "source": [
    "y1 = int(input(\"Enter year in 4 digit :\"))\n",
    "    \n",
    "\n",
    "if y1 % 4 == 0 and y1 % 100 != 0:\n",
    "    print(\"Leap year\")\n",
    "    \n",
    "if y1 % 400 != 0 and (y1 % 4 != 0 or y1 % 100 == 0):\n",
    "    print(\"Not a leap year\")\n",
    "\n",
    "if y1 % 400 == 0:\n",
    "    print(\"Leap year\")\n",
    "\n"
   ]
  },
  {
   "cell_type": "code",
   "execution_count": 32,
   "id": "dccd56c0",
   "metadata": {},
   "outputs": [
    {
     "name": "stdout",
     "output_type": "stream",
     "text": [
      "Enter a year in 4 digits: 2012\n",
      "Leap year\n"
     ]
    }
   ],
   "source": [
    "y2 = int(input(\"Enter a year in 4 digits: \"))\n",
    "\n",
    "print(\"Leap year\") if (y2 % 400 == 0 or (y2 % 4 == 0 and y2 % 100 != 0)) else print(\"Not a leap year\")\n"
   ]
  },
  {
   "cell_type": "code",
   "execution_count": null,
   "id": "af40efea",
   "metadata": {},
   "outputs": [],
   "source": []
  },
  {
   "cell_type": "markdown",
   "id": "9ef54e7b",
   "metadata": {},
   "source": [
    "5."
   ]
  },
  {
   "cell_type": "code",
   "execution_count": 34,
   "id": "60e87ad9",
   "metadata": {},
   "outputs": [
    {
     "name": "stdout",
     "output_type": "stream",
     "text": [
      "Enter number 1 :23\n",
      "Enter number 2 :23.6\n",
      "Greatest number is :  23.6\n"
     ]
    }
   ],
   "source": [
    "# Write a Python Program to get two numbers from keyboard and print the maximum number among them.\n",
    "# (a) Using if…elif\t(b) Using Multiple if (c) Using Ternary Operator\n",
    "\n",
    "\n",
    "n1 = input(\"Enter number 1 :\")\n",
    "n2 = input(\"Enter number 2 :\")\n",
    "\n",
    "if(n1>n2):\n",
    "    print(\"Greatest number is : \",n1)\n",
    "else:\n",
    "    print(\"Greatest number is : \",n2)"
   ]
  },
  {
   "cell_type": "code",
   "execution_count": 35,
   "id": "307a4f89",
   "metadata": {},
   "outputs": [
    {
     "name": "stdout",
     "output_type": "stream",
     "text": [
      "Enter number 1 :23\n",
      "Enter number 2 :23.5\n",
      "Greatest number is :  23.5\n"
     ]
    }
   ],
   "source": [
    "n1 = input(\"Enter number 1 :\")\n",
    "n2 = input(\"Enter number 2 :\")\n",
    "\n",
    "if(n1>n2):\n",
    "    print(\"Greatest number is : \",n1)\n",
    "    \n",
    "\n",
    "if(n1 < n2):\n",
    "    print(\"Greatest number is : \",n2)"
   ]
  },
  {
   "cell_type": "code",
   "execution_count": 37,
   "id": "f18bd844",
   "metadata": {},
   "outputs": [
    {
     "name": "stdout",
     "output_type": "stream",
     "text": [
      "Enter number 1 :8\n",
      "Enter number 2 :6.8\n",
      "Greatest number is :  8\n"
     ]
    }
   ],
   "source": [
    "n1 = input(\"Enter number 1 :\")\n",
    "n2 = input(\"Enter number 2 :\")\n",
    "\n",
    "print(\"Greatest number is : \",n1) if (n1 > n2) else print(\"Greatest number is : \",n2)\n"
   ]
  },
  {
   "cell_type": "code",
   "execution_count": null,
   "id": "0b054365",
   "metadata": {},
   "outputs": [],
   "source": []
  },
  {
   "cell_type": "code",
   "execution_count": null,
   "id": "7495d643",
   "metadata": {},
   "outputs": [],
   "source": []
  },
  {
   "cell_type": "markdown",
   "id": "0002b72e",
   "metadata": {},
   "source": [
    "#\n",
    "6"
   ]
  },
  {
   "cell_type": "code",
   "execution_count": 40,
   "id": "66945aef",
   "metadata": {},
   "outputs": [
    {
     "name": "stdout",
     "output_type": "stream",
     "text": [
      "Enter number 1 :2\n",
      "Enter number 2 :5\n",
      "UP\n"
     ]
    }
   ],
   "source": [
    "# Write a program, which reads two integer values. If the first is less than the second, print the message UP. If the second is less than first, print the message DOWN If the numbers are equal, print the message EQUAL.\n",
    "# (a) Using if…elif if…elif\t(b) Using Multiple if (c) Using Nested Ternary\n",
    "\n",
    "nm1 = input(\"Enter number 1 :\")\n",
    "nm2 = input(\"Enter number 2 :\")\n",
    "\n",
    "if(nm1 < nm2):\n",
    "    print(\"UP\")\n",
    "elif(nm1 < nm2):\n",
    "    print(\"DOWN\")\n",
    "else:\n",
    "    print(\"EQUAL\")\n",
    "    \n",
    "    \n"
   ]
  },
  {
   "cell_type": "code",
   "execution_count": 41,
   "id": "00ce9cbf",
   "metadata": {},
   "outputs": [
    {
     "name": "stdout",
     "output_type": "stream",
     "text": [
      "Enter number 1 :2\n",
      "Enter number 2 :4\n",
      "UP\n"
     ]
    }
   ],
   "source": [
    "nm1 = input(\"Enter number 1 :\")\n",
    "nm2 = input(\"Enter number 2 :\")\n",
    "\n",
    "if(nm1 < nm2):\n",
    "    print(\"UP\")\n",
    "    \n",
    "if(nm1 > nm2):\n",
    "    print(\"DOWN\")\n",
    "\n",
    "if(nm1 == nm2):\n",
    "    print(\"EQUAL\")"
   ]
  },
  {
   "cell_type": "code",
   "execution_count": 44,
   "id": "cb73ab8b",
   "metadata": {},
   "outputs": [
    {
     "name": "stdout",
     "output_type": "stream",
     "text": [
      "Enter number 1 :3\n",
      "Enter number 2 :1\n",
      "DOWN\n"
     ]
    }
   ],
   "source": [
    "nm1 = input(\"Enter number 1 :\")\n",
    "nm2 = input(\"Enter number 2 :\")\n",
    "\n",
    "print(\"UP\") if (nm1 < nm2) else print(\"DOWN\") if(nm1 > nm2) else print(\"EQUAL\")"
   ]
  },
  {
   "cell_type": "code",
   "execution_count": null,
   "id": "ecf7f355",
   "metadata": {},
   "outputs": [],
   "source": []
  },
  {
   "cell_type": "code",
   "execution_count": null,
   "id": "6a5049f1",
   "metadata": {},
   "outputs": [],
   "source": []
  },
  {
   "cell_type": "code",
   "execution_count": 45,
   "id": "0e75318e",
   "metadata": {},
   "outputs": [],
   "source": [
    "# 7. Write a Python Program to get any number from the console and check whether it is positive, negative or zero.\n",
    "# (a) Using Multiple if\t(b) Using if…elif if…elif if…elif (c) Using Nested Ternary\n",
    "\n",
    "\n"
   ]
  },
  {
   "cell_type": "code",
   "execution_count": 47,
   "id": "78a02a9f",
   "metadata": {},
   "outputs": [
    {
     "name": "stdout",
     "output_type": "stream",
     "text": [
      "Enter a number: 34\n",
      "Positive\n"
     ]
    }
   ],
   "source": [
    "num = float(input(\"Enter a number: \"))\n",
    "\n",
    "if num > 0:\n",
    "    print(\"Positive\")\n",
    "\n",
    "if num < 0:\n",
    "    print(\"Negative\")\n",
    "\n",
    "if num == 0:\n",
    "    print(\"Zero\")\n"
   ]
  },
  {
   "cell_type": "code",
   "execution_count": 48,
   "id": "0c280418",
   "metadata": {},
   "outputs": [
    {
     "name": "stdout",
     "output_type": "stream",
     "text": [
      "Enter a number: 45\n",
      "Positive\n"
     ]
    }
   ],
   "source": [
    "num = int(input(\"Enter a number: \"))\n",
    "\n",
    "if num > 0:\n",
    "    print(\"Positive\")\n",
    "elif num < 0:\n",
    "    print(\"Negative\")\n",
    "elif num == 0:\n",
    "    print(\"Zero\")\n"
   ]
  },
  {
   "cell_type": "code",
   "execution_count": 49,
   "id": "30e03352",
   "metadata": {},
   "outputs": [
    {
     "name": "stdout",
     "output_type": "stream",
     "text": [
      "Enter a number: 41\n",
      "Positive\n"
     ]
    }
   ],
   "source": [
    "num = float(input(\"Enter a number: \"))\n",
    "\n",
    "print(\"Positive\") if num > 0 else print(\"Negative\") if num < 0 else print(\"Zero\")\n"
   ]
  },
  {
   "cell_type": "code",
   "execution_count": null,
   "id": "66028a2f",
   "metadata": {},
   "outputs": [],
   "source": []
  },
  {
   "cell_type": "code",
   "execution_count": null,
   "id": "af23590d",
   "metadata": {},
   "outputs": [],
   "source": []
  },
  {
   "cell_type": "code",
   "execution_count": 50,
   "id": "310cd87e",
   "metadata": {},
   "outputs": [],
   "source": [
    "# 8. Write a program that will read three numeric values from the user and find out and display the larger one.\n",
    "# (a) Using Multiple if\t(b) Using Nested if  (c) Using if…elif if…elif\t(d) Using Nested Ternary\n"
   ]
  },
  {
   "cell_type": "code",
   "execution_count": 52,
   "id": "376340b6",
   "metadata": {},
   "outputs": [
    {
     "name": "stdout",
     "output_type": "stream",
     "text": [
      "Enter the first number: 44\n",
      "Enter the second number: 2\n",
      "Enter the third number: 3\n",
      "Greatest num is :  44\n"
     ]
    }
   ],
   "source": [
    "n1 = input(\"Enter the first number: \")\n",
    "n2 = input(\"Enter the second number: \")\n",
    "n3 = input(\"Enter the third number: \")\n",
    "\n",
    "if(n1 > n2 and n1 > n3):\n",
    "    print(\"Greatest num is : \",n1)\n",
    "elif(n2 > n3):\n",
    "    print(\"Greatest num is : \",n2)\n",
    "else:\n",
    "    print(\"Greatest num is : \",n3)"
   ]
  },
  {
   "cell_type": "code",
   "execution_count": 56,
   "id": "168e1651",
   "metadata": {},
   "outputs": [
    {
     "name": "stdout",
     "output_type": "stream",
     "text": [
      "Enter the first number: 2\n",
      "Enter the second number: 3\n",
      "Enter the third number: 6\n",
      "Greatest num is :  6\n"
     ]
    }
   ],
   "source": [
    "n1 = input(\"Enter the first number: \")\n",
    "n2 = input(\"Enter the second number: \")\n",
    "n3 = input(\"Enter the third number: \")\n",
    "\n",
    "if(n1 > (n2 and n3)):\n",
    "     print(\"Greatest num is : \",n1)\n",
    "        \n",
    "if(n2 > (n1 and n3)):\n",
    "     print(\"Greatest num is : \",n2)\n",
    "\n",
    "if(n3 > (n1 and n2)):\n",
    "     print(\"Greatest num is : \",n3)"
   ]
  },
  {
   "cell_type": "code",
   "execution_count": 58,
   "id": "c873367e",
   "metadata": {},
   "outputs": [
    {
     "name": "stdout",
     "output_type": "stream",
     "text": [
      "Enter the first number: 3\n",
      "Enter the second number: 7\n",
      "Enter the third number: 9\n",
      "gratest number is: 9\n"
     ]
    }
   ],
   "source": [
    "n1 = input(\"Enter the first number: \")\n",
    "n2 = input(\"Enter the second number: \")\n",
    "n3 = input(\"Enter the third number: \")\n",
    "\n",
    "if n1 >= n2:\n",
    "    if n1 >= n3:\n",
    "        l = n1\n",
    "    else:\n",
    "        l = n3\n",
    "else:\n",
    "    if n2 >= n3:\n",
    "        l = n2\n",
    "    else:\n",
    "        l = n3\n",
    "\n",
    "print(\"gratest number is:\", l)\n"
   ]
  },
  {
   "cell_type": "code",
   "execution_count": 60,
   "id": "358994cd",
   "metadata": {},
   "outputs": [
    {
     "name": "stdout",
     "output_type": "stream",
     "text": [
      "Enter the first number: 45\n",
      "Enter the second number: 65\n",
      "Enter the third number: 78\n",
      "greatest number is: 78\n"
     ]
    }
   ],
   "source": [
    "n1 = input(\"Enter the first number: \")\n",
    "n2 = input(\"Enter the second number: \")\n",
    "n3 = input(\"Enter the third number: \")\n",
    "\n",
    "\n",
    "\n",
    "if n1 >= n2 and n1 >= n3:\n",
    "    l = n1\n",
    "elif n2 >= n1 and n2 >= n3:\n",
    "    l = n2\n",
    "else:\n",
    "    l = n3\n",
    "\n",
    "print(\"greatest number is:\", l)"
   ]
  },
  {
   "cell_type": "code",
   "execution_count": null,
   "id": "9817a1b8",
   "metadata": {},
   "outputs": [],
   "source": []
  },
  {
   "cell_type": "code",
   "execution_count": null,
   "id": "3bc21af0",
   "metadata": {},
   "outputs": [],
   "source": []
  },
  {
   "cell_type": "code",
   "execution_count": 62,
   "id": "6a26fbdd",
   "metadata": {},
   "outputs": [
    {
     "name": "stdout",
     "output_type": "stream",
     "text": [
      "Enter roll no :1\n",
      "Enter marks of subject 1 :89\n",
      "Enter marks of subject 2 :90\n",
      "Enter marks of subject 3 :98\n",
      "==================================\n",
      "-------------Result---------------\n",
      "==================================\n",
      "Total marks :  277\n",
      "percentage : 92.33333333333333 %\n",
      "Grade :  A grade\n"
     ]
    }
   ],
   "source": [
    "# 9. Write a Python Program to input marks of 3 subjects and calculate total, percentage, result and grade.\n",
    "# (a) Using Multiple if\t(b) Using Nested if  (c) Using if…elif if…elif\n",
    "\n",
    "\n",
    "r_no = int(input(\"Enter roll no :\"))\n",
    "s1 = int(input(\"Enter marks of subject 1 :\"))\n",
    "s2 = int(input(\"Enter marks of subject 2 :\"))\n",
    "s3 = int(input(\"Enter marks of subject 3 :\"))\n",
    "total_marks = s1 + s2 + s3\n",
    "per = (total_marks / 300)*100\n",
    "grade = 'a'\n",
    "\n",
    "if per>90:\n",
    "    grade = 'A'\n",
    "elif per>80 and per < 90:\n",
    "    grade = 'B'\n",
    "elif per>60 and per < 80:\n",
    "    grade = 'C'\n",
    "elif per>40 and per < 60:\n",
    "    grade = 'D'\n",
    "else :\n",
    "    grade = 'E'\n",
    "print(\"==================================\")\n",
    "print(\"-------------Result---------------\")\n",
    "print(\"==================================\")\n",
    "print(\"Total marks : \",total_marks)\n",
    "print(\"percentage :\",per,\"%\")\n",
    "print(\"Grade : \",grade,\"grade\")"
   ]
  },
  {
   "cell_type": "code",
   "execution_count": 63,
   "id": "bcafc577",
   "metadata": {},
   "outputs": [
    {
     "name": "stdout",
     "output_type": "stream",
     "text": [
      "Enter roll number: 23\n",
      "Enter marks of subject 1: 89\n",
      "Enter marks of subject 2: 90\n",
      "Enter marks of subject 3: 87\n",
      "==================================\n",
      "-------------Result---------------\n",
      "==================================\n",
      "Total marks: 266\n",
      "Percentage: 88.66666666666667 %\n",
      "Grade: B grade\n"
     ]
    }
   ],
   "source": [
    "# Input: Read roll number and marks for three subjects from the user\n",
    "r_no = int(input(\"Enter roll number: \"))\n",
    "s1 = int(input(\"Enter marks of subject 1: \"))\n",
    "s2 = int(input(\"Enter marks of subject 2: \"))\n",
    "s3 = int(input(\"Enter marks of subject 3: \"))\n",
    "\n",
    "# Calculate total marks and percentage\n",
    "total_marks = s1 + s2 + s3\n",
    "per = (total_marks / 300) * 100\n",
    "\n",
    "# Initialize grade\n",
    "grade = 'E'  # Default grade\n",
    "\n",
    "# Determine the grade using multiple if statements\n",
    "if per > 90:\n",
    "    grade = 'A'\n",
    "if 80 < per <= 90:\n",
    "    grade = 'B'\n",
    "if 60 < per <= 80:\n",
    "    grade = 'C'\n",
    "if 40 < per <= 60:\n",
    "    grade = 'D'\n",
    "if per <= 40:\n",
    "    grade = 'E'\n",
    "\n",
    "# Print the results\n",
    "print(\"==================================\")\n",
    "print(\"-------------Result---------------\")\n",
    "print(\"==================================\")\n",
    "print(\"Total marks:\", total_marks)\n",
    "print(\"Percentage:\", per, \"%\")\n",
    "print(\"Grade:\", grade, \"grade\")\n"
   ]
  },
  {
   "cell_type": "code",
   "execution_count": null,
   "id": "8406db2a",
   "metadata": {},
   "outputs": [],
   "source": []
  },
  {
   "cell_type": "code",
   "execution_count": null,
   "id": "c55ff855",
   "metadata": {},
   "outputs": [],
   "source": []
  },
  {
   "cell_type": "code",
   "execution_count": null,
   "id": "71b0bb7d",
   "metadata": {},
   "outputs": [],
   "source": []
  },
  {
   "cell_type": "code",
   "execution_count": 64,
   "id": "b055f9c9",
   "metadata": {},
   "outputs": [
    {
     "name": "stdout",
     "output_type": "stream",
     "text": [
      "Enter a day (1-7): 3\n",
      "Wednesday\n"
     ]
    }
   ],
   "source": [
    "# 10. Write a Python Program to accept any day number between 1 to 7 and print the message as Monday if day number is 1, Tuesday if day number is 2, Wednesday if day number is 3 and so on. Also display appropriate message if the day number is less than 1 or greater than 7.\n",
    "# Using Multiple if  (b) Using if…elif if…elif  \n",
    "\n",
    "\n",
    "day_num = int(input(\"Enter a day (1-7): \"))\n",
    "\n",
    "if day_num == 1:\n",
    "    print(\"Monday\")\n",
    "if day_num == 2:\n",
    "    print(\"Tuesday\")\n",
    "if day_num == 3:\n",
    "    print(\"Wednesday\")\n",
    "if day_num == 4:\n",
    "    print(\"Thursday\")\n",
    "if day_num == 5:\n",
    "    print(\"Friday\")\n",
    "if day_num == 6:\n",
    "    print(\"Saturday\")\n",
    "if day_num == 7:\n",
    "    print(\"Sunday\")\n",
    "if day_num < 1 or day_num > 7:\n",
    "    print(\"Invalid day number.\")\n"
   ]
  },
  {
   "cell_type": "code",
   "execution_count": 65,
   "id": "eeedfe55",
   "metadata": {},
   "outputs": [
    {
     "name": "stdout",
     "output_type": "stream",
     "text": [
      "Enter a day number (1-7): 4\n",
      "Thursday\n"
     ]
    }
   ],
   "source": [
    "day_num = int(input(\"Enter a day number (1-7): \"))\n",
    "\n",
    "if day_num == 1:\n",
    "    print(\"Monday\")\n",
    "elif day_num == 2:\n",
    "    print(\"Tuesday\")\n",
    "elif day_num == 3:\n",
    "    print(\"Wednesday\")\n",
    "elif day_num == 4:\n",
    "    print(\"Thursday\")\n",
    "elif day_num == 5:\n",
    "    print(\"Friday\")\n",
    "elif day_num == 6:\n",
    "    print(\"Saturday\")\n",
    "elif day_num == 7:\n",
    "    print(\"Sunday\")\n",
    "else:\n",
    "    print(\"Invalid day number.\")\n"
   ]
  },
  {
   "cell_type": "code",
   "execution_count": null,
   "id": "256c498a",
   "metadata": {},
   "outputs": [],
   "source": []
  },
  {
   "cell_type": "code",
   "execution_count": null,
   "id": "ef66e259",
   "metadata": {},
   "outputs": [],
   "source": []
  },
  {
   "cell_type": "code",
   "execution_count": 67,
   "id": "dfc171a1",
   "metadata": {},
   "outputs": [
    {
     "name": "stdout",
     "output_type": "stream",
     "text": [
      "Enter a number (0-9): 4\n",
      "Four\n"
     ]
    }
   ],
   "source": [
    "# Write a Python Program to accept any number between 0 to 9 and print the message as Zero if number is 0, One if number is 1, Two if number is 2 and so on. Also display \"Number must be positive and in one digit only\" if the number is less than 0 or greater than 9.\n",
    "# Using Multiple if  (b) Using if…elif if…elif  \n",
    "\n",
    "num = int(input(\"Enter a number (0-9): \"))\n",
    "\n",
    "if num == 0:\n",
    "    print(\"Zero\")\n",
    "if num == 1:\n",
    "    print(\"One\")\n",
    "if num == 2:\n",
    "    print(\"Two\")\n",
    "if num == 3:\n",
    "    print(\"Three\")\n",
    "if num == 4:\n",
    "    print(\"Four\")\n",
    "if num == 5:\n",
    "    print(\"Five\")\n",
    "if num == 6:\n",
    "    print(\"Six\")\n",
    "if num == 7:\n",
    "    print(\"Seven\")\n",
    "if num == 8:\n",
    "    print(\"Eight\")\n",
    "if num == 9:\n",
    "    print(\"Nine\")\n",
    "if num < 0 or num > 9:\n",
    "    print(\"Invalid\")\n"
   ]
  },
  {
   "cell_type": "code",
   "execution_count": 68,
   "id": "5d91b4f7",
   "metadata": {},
   "outputs": [
    {
     "name": "stdout",
     "output_type": "stream",
     "text": [
      "Enter a number (0-9): 8\n",
      "Eight\n"
     ]
    }
   ],
   "source": [
    "num = int(input(\"Enter a number (0-9): \"))\n",
    "\n",
    "if num == 0:\n",
    "    print(\"Zero\")\n",
    "elif num == 1:\n",
    "    print(\"One\")\n",
    "elif num == 2:\n",
    "    print(\"Two\")\n",
    "elif num == 3:\n",
    "    print(\"Three\")\n",
    "elif num == 4:\n",
    "    print(\"Four\")\n",
    "elif num == 5:\n",
    "    print(\"Five\")\n",
    "elif num == 6:\n",
    "    print(\"Six\")\n",
    "elif num == 7:\n",
    "    print(\"Seven\")\n",
    "elif num == 8:\n",
    "    print(\"Eight\")\n",
    "elif num == 9:\n",
    "    print(\"Nine\")\n",
    "else:\n",
    "    print(\"Invalid\")\n"
   ]
  },
  {
   "cell_type": "code",
   "execution_count": 69,
   "id": "69cc8ad2",
   "metadata": {},
   "outputs": [
    {
     "name": "stdout",
     "output_type": "stream",
     "text": [
      "Enter a month number (1-12): 4\n",
      "April, 30 days\n"
     ]
    }
   ],
   "source": [
    "# Write a Python Program to accept any month number between 1 to 12 and print the message as January if month number is 1, February if month number is 2, March if month number is 3 and so on. Also print the number of days for that month and display appropriate message if the month number is less than 1 or greater than 12.\n",
    "# (a) Using Multiple if  (b) Using if…elif if…elif  \n",
    "\n",
    "\n",
    "mn = int(input(\"Enter a month number (1-12): \"))\n",
    "\n",
    "if mn == 1:\n",
    "    print(\"January, 31 days\")\n",
    "if mn == 2:\n",
    "    print(\"February, 28 or 29 days\")\n",
    "if mn == 3:\n",
    "    print(\"March, 31 days\")\n",
    "if mn == 4:\n",
    "    print(\"April, 30 days\")\n",
    "if mn == 5:\n",
    "    print(\"May, 31 days\")\n",
    "if mn == 6:\n",
    "    print(\"June, 30 days\")\n",
    "if mn == 7:\n",
    "    print(\"July, 31 days\")\n",
    "if mn == 8:\n",
    "    print(\"August, 31 days\")\n",
    "if mn == 9:\n",
    "    print(\"September, 30 days\")\n",
    "if mn == 10:\n",
    "    print(\"October, 31 days\")\n",
    "if mn == 11:\n",
    "    print(\"November, 30 days\")\n",
    "if mn == 12:\n",
    "    print(\"December, 31 days\")\n",
    "if mn < 1 or mn > 12:\n",
    "    print(\"Invalid month number.\")\n"
   ]
  },
  {
   "cell_type": "code",
   "execution_count": 70,
   "id": "bea1139e",
   "metadata": {},
   "outputs": [
    {
     "name": "stdout",
     "output_type": "stream",
     "text": [
      "Enter a month number (1-12): 13\n",
      "Invalid month number.\n"
     ]
    }
   ],
   "source": [
    "mn = int(input(\"Enter a month number (1-12): \"))\n",
    "\n",
    "if mn == 1:\n",
    "    print(\"January, 31 days\")\n",
    "elif mn == 2:\n",
    "    print(\"February, 28 or 29 days\")\n",
    "elif mn == 3:\n",
    "    print(\"March, 31 days\")\n",
    "elif mn == 4:\n",
    "    print(\"April, 30 days\")\n",
    "elif mn == 5:\n",
    "    print(\"May, 31 days\")\n",
    "elif mn == 6:\n",
    "    print(\"June, 30 days\")\n",
    "elif mn == 7:\n",
    "    print(\"July, 31 days\")\n",
    "elif mn == 8:\n",
    "    print(\"August, 31 days\")\n",
    "elif mn == 9:\n",
    "    print(\"September, 30 days\")\n",
    "elif mn == 10:\n",
    "    print(\"October, 31 days\")\n",
    "elif mn == 11:\n",
    "    print(\"November, 30 days\")\n",
    "elif mn == 12:\n",
    "    print(\"December, 31 days\")\n",
    "else:\n",
    "    print(\"Invalid month number.\")\n"
   ]
  },
  {
   "cell_type": "code",
   "execution_count": null,
   "id": "adcb4ead",
   "metadata": {},
   "outputs": [],
   "source": []
  }
 ],
 "metadata": {
  "kernelspec": {
   "display_name": "Python 3 (ipykernel)",
   "language": "python",
   "name": "python3"
  },
  "language_info": {
   "codemirror_mode": {
    "name": "ipython",
    "version": 3
   },
   "file_extension": ".py",
   "mimetype": "text/x-python",
   "name": "python",
   "nbconvert_exporter": "python",
   "pygments_lexer": "ipython3",
   "version": "3.11.5"
  }
 },
 "nbformat": 4,
 "nbformat_minor": 5
}
