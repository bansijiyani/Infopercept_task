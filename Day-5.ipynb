{
 "cells": [
  {
   "cell_type": "code",
   "execution_count": 1,
   "id": "9d6bb7c0",
   "metadata": {},
   "outputs": [
    {
     "name": "stdout",
     "output_type": "stream",
     "text": [
      "Num 1 : 2\n",
      "Num 2 : 5\n",
      "Enter any op (+,-,/,*): -\n",
      "Result: 2.0 - 5.0 = -3.0\n"
     ]
    }
   ],
   "source": [
    "# 11. Write a Python Program to accept two numbers and any arithmetic operator. According to arithmetic operator calculate the result and display it.\n",
    "# (a) Using Multiple if  (b) Using if…elif if…elif  \n",
    "\n",
    "\n",
    "num1 = float(input(\"Num 1 : \"))\n",
    "num2 = float(input(\"Num 2 : \"))\n",
    "operator = input(\"Enter any op (+,-,/,*): \")\n",
    "\n",
    "if operator == '+':\n",
    "    result = num1 + num2\n",
    "    print(f\"Result: {num1} + {num2} = {result}\")\n",
    "\n",
    "if operator == '-':\n",
    "    result = num1 - num2\n",
    "    print(f\"Result: {num1} - {num2} = {result}\")\n",
    "\n",
    "if operator == '*':\n",
    "    result = num1 * num2\n",
    "    print(f\"Result: {num1} * {num2} = {result}\")\n",
    "\n",
    "if operator == '/':\n",
    "    if num2 != 0:\n",
    "        result = num1 / num2\n",
    "        print(f\"Result: {num1} / {num2} = {result}\")\n",
    "    else:\n",
    "        print(\"Invalid..\")\n"
   ]
  },
  {
   "cell_type": "code",
   "execution_count": 2,
   "id": "7923478f",
   "metadata": {},
   "outputs": [
    {
     "name": "stdout",
     "output_type": "stream",
     "text": [
      "Num 1 : 5\n",
      "Num 2 : 87\n",
      "Enter any op (+,-,/,*): +\n",
      "Result: 5.0 + 87.0 = 92.0\n"
     ]
    }
   ],
   "source": [
    "# Get input from the user\n",
    "num1 = float(input(\"Num 1 : \"))\n",
    "num2 = float(input(\"Num 2 : \"))\n",
    "operator = input(\"Enter any op (+,-,/,*): \")\n",
    "\n",
    "if operator == '+':\n",
    "    result = num1 + num2\n",
    "    print(f\"Result: {num1} + {num2} = {result}\")\n",
    "\n",
    "elif operator == '-':\n",
    "    result = num1 - num2\n",
    "    print(f\"Result: {num1} - {num2} = {result}\")\n",
    "\n",
    "elif operator == '*':\n",
    "    result = num1 * num2\n",
    "    print(f\"Result: {num1} * {num2} = {result}\")\n",
    "\n",
    "elif operator == '/':\n",
    "    if num2 != 0:\n",
    "        result = num1 / num2\n",
    "        print(f\"Result: {num1} / {num2} = {result}\")\n",
    "    else:\n",
    "        print(\"Invalid..\")\n",
    "else:\n",
    "    print(\"Invalid..\")"
   ]
  },
  {
   "cell_type": "code",
   "execution_count": null,
   "id": "23818998",
   "metadata": {},
   "outputs": [],
   "source": []
  },
  {
   "cell_type": "code",
   "execution_count": null,
   "id": "1fe0aba0",
   "metadata": {},
   "outputs": [],
   "source": []
  },
  {
   "cell_type": "code",
   "execution_count": 3,
   "id": "6be5ecec",
   "metadata": {},
   "outputs": [
    {
     "name": "stdout",
     "output_type": "stream",
     "text": [
      "Enter alphabet char: a\n",
      "LOWERCASE\n"
     ]
    }
   ],
   "source": [
    "# 12 . Write a program to get an alphabet from the user and display message UPPERCASE if it is uppercase alphabet or LOWERCASE if it is lowercase alphabet.\n",
    "\n",
    "char = input(\"Enter alphabet char: \")\n",
    "\n",
    "if len(char) == 1 and char.isalpha():\n",
    "    if char.isupper():\n",
    "        print(\"UPPERCASE\")\n",
    "    elif char.islower():\n",
    "        print(\"LOWERCASE\")\n",
    "else:\n",
    "    print(\"Not valid\")\n",
    "    \n"
   ]
  },
  {
   "cell_type": "code",
   "execution_count": null,
   "id": "fe6f7e8e",
   "metadata": {},
   "outputs": [],
   "source": []
  },
  {
   "cell_type": "code",
   "execution_count": 4,
   "id": "ee8e5eb7",
   "metadata": {},
   "outputs": [
    {
     "name": "stdout",
     "output_type": "stream",
     "text": [
      "Enter a character: a\n",
      "A\n"
     ]
    }
   ],
   "source": [
    "#  13.Write a program that reads a character from keyboard and then prints it in reverse case.\n",
    "\n",
    "char = input(\"Enter a character: \")\n",
    "\n",
    "if len(char) == 1 and char.isalpha():\n",
    "    if char.isupper():\n",
    "        print(char.lower())\n",
    "    elif char.islower():\n",
    "        print(char.upper())\n",
    "else:\n",
    "    print(\"Invalid\")\n"
   ]
  },
  {
   "cell_type": "code",
   "execution_count": null,
   "id": "d35da145",
   "metadata": {},
   "outputs": [],
   "source": []
  },
  {
   "cell_type": "code",
   "execution_count": 7,
   "id": "19bc0a03",
   "metadata": {},
   "outputs": [
    {
     "name": "stdout",
     "output_type": "stream",
     "text": [
      "Enter character :r\n",
      "Character is not vovel\n"
     ]
    }
   ],
   "source": [
    "# 14.Write a program to get the one character from user and find out this character is Vowel or Not.\n",
    "\n",
    "c = input(\"Enter character :\")\n",
    "l = ['a','e','i','o','u','A','E','I','O','U']\n",
    "\n",
    "if(c in l):\n",
    "    print(\"Character is vowel\")\n",
    "else:\n",
    "    print(\"Character is not vovel\")"
   ]
  },
  {
   "cell_type": "code",
   "execution_count": null,
   "id": "76e77c62",
   "metadata": {},
   "outputs": [],
   "source": []
  },
  {
   "cell_type": "code",
   "execution_count": null,
   "id": "baad07a7",
   "metadata": {},
   "outputs": [],
   "source": []
  },
  {
   "cell_type": "code",
   "execution_count": 11,
   "id": "ddec49cb",
   "metadata": {},
   "outputs": [
    {
     "name": "stdout",
     "output_type": "stream",
     "text": [
      "Enter character : $\n",
      "Special character\n"
     ]
    }
   ],
   "source": [
    "# 15.Enter a character and display a message on the screen telling the user whether the character is an alphabet or digit, or any other special character.\n",
    "\n",
    "ch = input(\"Enter character : \")\n",
    "\n",
    "if(ch.isalpha()):\n",
    "    print(\"Alphabet character \")\n",
    "elif(ch.isdigit()):\n",
    "    print(\"Digit character \")\n",
    "else:\n",
    "    print(\"Special character\")"
   ]
  },
  {
   "cell_type": "code",
   "execution_count": null,
   "id": "6e10db7f",
   "metadata": {},
   "outputs": [],
   "source": []
  },
  {
   "cell_type": "code",
   "execution_count": null,
   "id": "4456c786",
   "metadata": {},
   "outputs": [],
   "source": []
  },
  {
   "cell_type": "code",
   "execution_count": 12,
   "id": "9bcbda18",
   "metadata": {},
   "outputs": [
    {
     "name": "stdout",
     "output_type": "stream",
     "text": [
      "Enter name: bansi\n",
      "Enter basic salary: 45000\n",
      "Enter gender (male/female): female\n",
      "Gross Salary for bansi: 56550.00\n"
     ]
    }
   ],
   "source": [
    "# 16. Write a Python Program for the following:\n",
    "# To calculate the gross salary based on the name of employee, his/her basic salary and sex entered through keyboard, consider the following rules.\n",
    "\n",
    "# Basic Salary\tUpto 4000\tBeyond\t4000\n",
    "# but upto 8000\n",
    "# Beyond\t8000\n",
    "# but upto 12000\n",
    "# Beyond 12000\n",
    "\n",
    "# DA (% of Basic)\t14 %\t12 %\t10 %\t8 %\n",
    "# HRA\t200\t500\t10 % of Basic\t15 % of Basic\n",
    "\n",
    "# Medical\n",
    "# Male\t150\t250\t500\t2000\n",
    "# Female\t200\t350\t700\t1200\n",
    "\n",
    "# Gross Salary = Basic Salary + DA + HRA + Medical\n",
    "\n",
    "# Input from user\n",
    "\n",
    "name = input(\"Enter name: \")\n",
    "basic = float(input(\"Enter basic salary: \"))\n",
    "sex = input(\"Enter gender (male/female): \").lower()\n",
    "\n",
    "if basic <= 4000:\n",
    "    da_perc = 14\n",
    "elif basic <= 8000:\n",
    "    da_perc = 12\n",
    "elif basic <= 12000:\n",
    "    da_perc = 10\n",
    "else:\n",
    "    da_perc = 8\n",
    "\n",
    "da = (da_perc / 100) * basic\n",
    "\n",
    "# Determine HRA\n",
    "if basic <= 4000:\n",
    "    hra = 200\n",
    "elif basic <= 8000:\n",
    "    hra = 500\n",
    "elif basic <= 12000:\n",
    "    hra = 0.10 * basic\n",
    "else:\n",
    "    hra = 0.15 * basic\n",
    "\n",
    "if sex == 'male':\n",
    "    if basic <= 4000:\n",
    "        med = 150\n",
    "    elif basic <= 8000:\n",
    "        med = 250\n",
    "    elif basic <= 12000:\n",
    "        med = 500\n",
    "    else:\n",
    "        med = 2000\n",
    "elif sex == 'female':\n",
    "    if basic <= 4000:\n",
    "        med = 200\n",
    "    elif basic <= 8000:\n",
    "        med = 350\n",
    "    elif basic <= 12000:\n",
    "        med = 700\n",
    "    else:\n",
    "        med = 1200\n",
    "else:\n",
    "    print(\"Please enter gender.\")\n",
    "    exit()\n",
    "\n",
    "gross = basic + da + hra + med\n",
    "\n",
    "print(f\"Gross Salary for {name}: {gross:.2f}\")\n"
   ]
  },
  {
   "cell_type": "code",
   "execution_count": null,
   "id": "621f048e",
   "metadata": {},
   "outputs": [],
   "source": []
  },
  {
   "cell_type": "code",
   "execution_count": null,
   "id": "6133fef7",
   "metadata": {},
   "outputs": [],
   "source": []
  },
  {
   "cell_type": "code",
   "execution_count": 14,
   "id": "1edb02b6",
   "metadata": {},
   "outputs": [
    {
     "name": "stdout",
     "output_type": "stream",
     "text": [
      "Enter roll no :123\n",
      "Enter name :tredc\n",
      "Enter marks of subject 1 :23\n",
      "Enter marks of subject 2 :45\n",
      "Enter marks of subject 3 :67\n",
      "Enter marks of subject 4 :87\n",
      "Enter marks of subject 5 :56\n",
      "==================================\n",
      "-------------Result---------------\n",
      "==================================\n",
      "Grade :  B grade\n"
     ]
    }
   ],
   "source": [
    "# 17. Write a Python Program to calculate and print the final grade from the marks obtained in 5 different subjects. (Each of having 100 marks, equal weightage)\n",
    "# Percentage Obtained (Average Marks)\tEquivalent Final Grade 70 or Above\t\t'O'\n",
    "# Less than 70 but More or Equal to 60\t'A'\n",
    "# Less than 60 but More or Equal to 50\t'B'\n",
    "# Less than 50 but More or Equal to 40\t'C'\n",
    "# Less than 40\t'F'\n",
    "\n",
    "\n",
    "r_no = int(input(\"Enter roll no :\"))\n",
    "s_name = input(\"Enter name :\")\n",
    "s1 = int(input(\"Enter marks of subject 1 :\"))\n",
    "s2 = int(input(\"Enter marks of subject 2 :\"))\n",
    "s3 = int(input(\"Enter marks of subject 3 :\"))\n",
    "s4 = int(input(\"Enter marks of subject 4 :\"))\n",
    "s5 = int(input(\"Enter marks of subject 5 :\"))\n",
    "\n",
    "total_marks = s1 + s2 + s3 + s4 + s5\n",
    "per = (total_marks / 500)*100\n",
    "grade = 'a'\n",
    "\n",
    "if per > 70:\n",
    "    grade = 'O'\n",
    "elif per<70 and per >60:\n",
    "    grade = 'A'\n",
    "elif per<60 and per >50:\n",
    "    grade = 'B'\n",
    "elif per<50 and per >40:\n",
    "    grade = 'C'\n",
    "else :\n",
    "    grade = 'F'\n",
    "print(\"==================================\")\n",
    "print(\"-------------Result---------------\")\n",
    "print(\"==================================\")\n",
    "\n",
    "print(\"Grade : \",grade,\"grade\")"
   ]
  },
  {
   "cell_type": "code",
   "execution_count": null,
   "id": "0b4dfb71",
   "metadata": {},
   "outputs": [],
   "source": []
  },
  {
   "cell_type": "code",
   "execution_count": null,
   "id": "1bc7c965",
   "metadata": {},
   "outputs": [],
   "source": []
  },
  {
   "cell_type": "code",
   "execution_count": 16,
   "id": "0b3a46c5",
   "metadata": {},
   "outputs": [
    {
     "name": "stdout",
     "output_type": "stream",
     "text": [
      "Enter the number of units consumed: 680\n",
      "Total Bill : 1080.0\n"
     ]
    }
   ],
   "source": [
    "# 18. An electric power distribution company charges its domestic consumers as follow:\n",
    "# Consumption Units\tRate of Charge\n",
    "# 0\n",
    "# -\n",
    "# 200\n",
    "# Rs. 0.40 per unit\n",
    "# 201\n",
    "# -\n",
    "# 400\n",
    "# Rs. 0.60 per unit + Rs. 100\n",
    "# 401\n",
    "# -\n",
    "# 600\n",
    "# Rs. 0.80 per unit + Rs. 250\n",
    "# 601\n",
    "# &\n",
    "# above\n",
    "# Rs. 1.00 per unit + Rs. 400\n",
    "\n",
    "\n",
    "\n",
    "units = float(input(\"Enter the number of units consumed: \"))\n",
    "\n",
    "if units <= 200:\n",
    "    rate = 0.40\n",
    "    bill = units * rate\n",
    "elif units <= 400:\n",
    "    rate = 0.60\n",
    "    bill = (units * rate) + 100\n",
    "elif units <= 600:\n",
    "    rate = 0.80\n",
    "    bill = (units * rate) + 250\n",
    "else:\n",
    "    rate = 1.00\n",
    "    bill = (units * rate) + 400\n",
    "\n",
    "# Output the result\n",
    "print(\"Total Bill :\" ,bill )\n"
   ]
  },
  {
   "cell_type": "code",
   "execution_count": null,
   "id": "f98b3ec2",
   "metadata": {},
   "outputs": [],
   "source": []
  }
 ],
 "metadata": {
  "kernelspec": {
   "display_name": "Python 3 (ipykernel)",
   "language": "python",
   "name": "python3"
  },
  "language_info": {
   "codemirror_mode": {
    "name": "ipython",
    "version": 3
   },
   "file_extension": ".py",
   "mimetype": "text/x-python",
   "name": "python",
   "nbconvert_exporter": "python",
   "pygments_lexer": "ipython3",
   "version": "3.11.5"
  }
 },
 "nbformat": 4,
 "nbformat_minor": 5
}
