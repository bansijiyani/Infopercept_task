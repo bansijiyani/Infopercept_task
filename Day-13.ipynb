{
 "cells": [
  {
   "cell_type": "code",
   "execution_count": 79,
   "id": "e3db2960",
   "metadata": {},
   "outputs": [
    {
     "name": "stdout",
     "output_type": "stream",
     "text": [
      "Enter an integer: 101\n",
      "Number in Word: one Zero one\n"
     ]
    }
   ],
   "source": [
    "# 21. Write a program and to accept any integer number and print the individual number in words. For ex.\tInput - 546\tOutput – Six Four Five\n",
    "\n",
    "def words(n):\n",
    "    wd = {\n",
    "        '0': 'Zero', \n",
    "        '1': 'one', \n",
    "        '2': 'two', \n",
    "        '3': 'three',\n",
    "        '4': 'four', \n",
    "        '5': 'five', \n",
    "        '6': 'six', \n",
    "        '7': 'seven',\n",
    "        '8': 'eight', \n",
    "        '9': 'nine'\n",
    "    }\n",
    "    \n",
    "    num_str = str(n)\n",
    "    rev = num_str[::-1]\n",
    "    \n",
    "    i = [wd[i] for i in rev]\n",
    "    return ' '.join(i)\n",
    "\n",
    "num = int(input(\"Enter an integer: \"))\n",
    "\n",
    "result = words(num)\n",
    "print(\"Number in Word:\", result)\n"
   ]
  },
  {
   "cell_type": "code",
   "execution_count": 91,
   "id": "d1ca2cdd",
   "metadata": {},
   "outputs": [
    {
     "name": "stdout",
     "output_type": "stream",
     "text": [
      "Enter an integer: 235\n",
      "Number in Word: two three five\n"
     ]
    }
   ],
   "source": [
    "# 22. Write a program and to accept any integer number and print the individual number in words. For ex.\tInput - 546\tOutput – Five Four Six\n",
    "\n",
    "def words(n):\n",
    "    wd = {\n",
    "        '0': 'Zero', \n",
    "        '1': 'one', \n",
    "        '2': 'two', \n",
    "        '3': 'three',\n",
    "        '4': 'four', \n",
    "        '5': 'five', \n",
    "        '6': 'six', \n",
    "        '7': 'seven',\n",
    "        '8': 'eight', \n",
    "        '9': 'nine'\n",
    "    }\n",
    "    \n",
    "    num_str = str(n)\n",
    "    \n",
    "    i = [wd[i] for i in num_str]\n",
    "    return ' '.join(i)\n",
    "\n",
    "num = int(input(\"Enter an integer: \"))\n",
    "\n",
    "result = words(num)\n",
    "print(\"Number in Word:\", result)"
   ]
  },
  {
   "cell_type": "code",
   "execution_count": 9,
   "id": "6fade96b",
   "metadata": {},
   "outputs": [
    {
     "name": "stdout",
     "output_type": "stream",
     "text": [
      "Enter num : 131\n",
      "palindrome\n"
     ]
    }
   ],
   "source": [
    "# 23. Write a Python Program that accept an integer number and determine whether the inputted number is palindrome or not?\n",
    "\n",
    "n = int(input(\"Enter num : \"))\n",
    "\n",
    "t=n\n",
    "rev=0\n",
    "\n",
    "while(n>0):\n",
    "    dig=n%10\n",
    "    rev=rev*10+dig\n",
    "    n=n//10\n",
    "    \n",
    "    \n",
    "if(t==rev):\n",
    "    print(\"palindrome\")\n",
    "else:\n",
    "    print(\"not palindrome\")"
   ]
  },
  {
   "cell_type": "code",
   "execution_count": 11,
   "id": "3aaa1d08",
   "metadata": {},
   "outputs": [
    {
     "name": "stdout",
     "output_type": "stream",
     "text": [
      "Enter num for print fib series sum: 7\n",
      "1,2,3,5,8,13,21,34,\n",
      "Sum of series :  87\n"
     ]
    }
   ],
   "source": [
    "# 24. Write a Python Program to do the addition of the first n terms of the fibonacci series.\n",
    "\n",
    "\n",
    "f = int(input(\"Enter num for print fib series sum: \"))\n",
    "\n",
    "n1=0\n",
    "n2=1\n",
    "sm=0\n",
    "\n",
    "for i in range(0,f+1):\n",
    "    n3 = n1+n2\n",
    "    print(n3,end=\",\")\n",
    "    sm = sm+n3\n",
    "    n1 = n2\n",
    "    n2 = n3\n",
    "\n",
    "print(\"\")\n",
    "print(\"Sum of series : \",sm)"
   ]
  },
  {
   "cell_type": "code",
   "execution_count": 14,
   "id": "b786aa3b",
   "metadata": {},
   "outputs": [
    {
     "name": "stdout",
     "output_type": "stream",
     "text": [
      "Enter num : 7\n",
      "2,3,5,9,17,33,65,129,"
     ]
    }
   ],
   "source": [
    "# 25. Generate the following series. 2 3 5 9 17 33 65 …….n\n",
    "\n",
    "n = int(input(\"Enter num : \"))\n",
    "print(\"2\",end = \",\")\n",
    "\n",
    "\n",
    "for i in range(1,n+1):\n",
    "    sqr = 2**i\n",
    "    print(sqr+1,end=\",\")"
   ]
  },
  {
   "cell_type": "code",
   "execution_count": 19,
   "id": "86b58084",
   "metadata": {},
   "outputs": [
    {
     "name": "stdout",
     "output_type": "stream",
     "text": [
      "Enter num : 8\n",
      "1,2,4,8,32,256,8192,2097152,17179869184,"
     ]
    }
   ],
   "source": [
    "# 26. 1  2  2  4  8  32  256\tup to a given range.\n",
    "\n",
    "f = int(input(\"Enter num : \"))\n",
    "\n",
    "n1=1\n",
    "n2=2\n",
    "\n",
    "print(\"1\",end=\",\")\n",
    "for i in range(1,f+1):\n",
    "    n3 = n1*n2\n",
    "    print(n3,end=\",\")\n",
    "    n1 = n2\n",
    "    n2 = n3\n"
   ]
  },
  {
   "cell_type": "code",
   "execution_count": 34,
   "id": "e8de6e62",
   "metadata": {},
   "outputs": [
    {
     "name": "stdout",
     "output_type": "stream",
     "text": [
      "Enter number : 8\n",
      "2,3,5,7,11,13,17,19,"
     ]
    }
   ],
   "source": [
    "# 27. Write a program to find first N prime number.\n",
    "\n",
    "def prime(n):\n",
    "    prime = True\n",
    "    i = 2\n",
    "    while i < n:\n",
    "        if n % i == 0:\n",
    "            prime = False\n",
    "        i +=1\n",
    "    \n",
    "    if prime == True :\n",
    "        return True\n",
    "    \n",
    "num = int(input(\"Enter number : \"))\n",
    "count = 0\n",
    "j =2\n",
    "while count < num:\n",
    "    if(prime(j)):\n",
    "        print(j,end=',')\n",
    "        count += 1\n",
    "    j += 1"
   ]
  },
  {
   "cell_type": "code",
   "execution_count": 35,
   "id": "c763406e",
   "metadata": {},
   "outputs": [
    {
     "name": "stdout",
     "output_type": "stream",
     "text": [
      "Enter num : 6\n",
      "2,3,5,9,17,33,65,"
     ]
    }
   ],
   "source": [
    "# 28 . Generate following series.\n",
    "# 2\t3\t5\t9\t17\t33\t65\tn\n",
    "\n",
    "\n",
    "n = int(input(\"Enter num : \"))\n",
    "print(\"2\",end = \",\")\n",
    "\n",
    "\n",
    "for i in range(1,n+1):\n",
    "    sqr = 2**i\n",
    "    print(sqr+1,end=\",\")"
   ]
  },
  {
   "cell_type": "code",
   "execution_count": 39,
   "id": "c8ce1cb9",
   "metadata": {},
   "outputs": [
    {
     "name": "stdout",
     "output_type": "stream",
     "text": [
      "Enter num : 5\n",
      "1,2,2,4,8,32,"
     ]
    }
   ],
   "source": [
    "# 29. Display the following series :\n",
    "# 1\t2  2  4  8  32  256\tup to a given range.\n",
    "\n",
    "f = int(input(\"Enter num : \"))\n",
    "\n",
    "n1=1\n",
    "n2=2\n",
    "\n",
    "print(\"1,2\",end=\",\")\n",
    "for i in range(1,f):\n",
    "    n3 = n1*n2\n",
    "    print(n3,end=\",\")\n",
    "    n1 = n2\n",
    "    n2 = n3\n"
   ]
  },
  {
   "cell_type": "code",
   "execution_count": null,
   "id": "834719df",
   "metadata": {},
   "outputs": [],
   "source": [
    "# 30. Write a program to take an integer and find the sum of first and last digit.\n",
    "# Ex.\tInput:\t1234\n",
    "# Output: 5\n",
    "\n",
    "n = int(input(\"Enter int num : \"))\n",
    "\n",
    "\n"
   ]
  },
  {
   "cell_type": "code",
   "execution_count": 46,
   "id": "4126be61",
   "metadata": {},
   "outputs": [
    {
     "name": "stdout",
     "output_type": "stream",
     "text": [
      "Enter int num for sum of odd num : 6\n",
      "1,3,5,7,9,11,\n",
      "Sum of odd Series :  36\n"
     ]
    }
   ],
   "source": [
    "# 31. Calculate the sum of first n odd integers (i.e. 1+3+5..+2n-1)\n",
    "\n",
    "n1 = int(input(\"Enter int num for sum of odd num : \"))\n",
    "\n",
    "sm = 0\n",
    "count=0\n",
    "i=1\n",
    "\n",
    "while count < n1:\n",
    "    if(i%2 != 0):\n",
    "        sm = sm+i\n",
    "        count = count+1\n",
    "        print(i,end=\",\")\n",
    "    i=i+1\n",
    "        \n",
    "print(\"\\nSum of odd Series : \",sm)"
   ]
  },
  {
   "cell_type": "code",
   "execution_count": 48,
   "id": "b3558298",
   "metadata": {},
   "outputs": [
    {
     "name": "stdout",
     "output_type": "stream",
     "text": [
      "Enter num : 10\n",
      "Binary format :  0b1010\n",
      "Octal format :  0o12\n",
      "Hexadecimal Format :  0xa\n"
     ]
    }
   ],
   "source": [
    "# 32. Input any number in decimal form and print it in Binary, octal and hexadecimal form.\n",
    "\n",
    "n2 = int(input(\"Enter num : \"))\n",
    "\n",
    "print(\"Binary format : \",bin(n2))\n",
    "print(\"Octal format : \",oct(n2))\n",
    "print(\"Hexadecimal Format : \",hex(n2))"
   ]
  },
  {
   "cell_type": "code",
   "execution_count": 54,
   "id": "f8fa6397",
   "metadata": {},
   "outputs": [
    {
     "name": "stdout",
     "output_type": "stream",
     "text": [
      "Enter num for print fibb series which are prime :10\n",
      "1,2,3,5,13,89,"
     ]
    }
   ],
   "source": [
    "# 33. Write a program to print first 10 numbers of fibonacci series, which are prime numbers.\n",
    "\n",
    "def prime(n):\n",
    "    prime = True\n",
    "    \n",
    "    i = 2\n",
    "    while i < n:\n",
    "        if n % i == 0:\n",
    "            prime = False\n",
    "        i +=1\n",
    "    \n",
    "    if prime == True :\n",
    "        return True\n",
    "    \n",
    "n1 = 0\n",
    "n2 = 1\n",
    "c = 0\n",
    "\n",
    "num3 = int(input(\"Enter num for print fibb series which are prime :\"))\n",
    "\n",
    "while c <= num3:\n",
    "    n3 = n1+n2\n",
    "    if prime(n3):\n",
    "        print(n3,end=\",\")\n",
    "    n1 = n2\n",
    "    n2 = n3\n",
    "    c = c+1"
   ]
  },
  {
   "cell_type": "code",
   "execution_count": 55,
   "id": "950e635b",
   "metadata": {},
   "outputs": [
    {
     "name": "stdout",
     "output_type": "stream",
     "text": [
      "Enter num for print series : 5\n",
      "2,5,10,17,26,"
     ]
    }
   ],
   "source": [
    "# 34. Write a program to generate series like 2 5 10 17 26………..n\t(Square + 1 Series)\n",
    "\n",
    "num4 = int(input(\"Enter num for print series : \"))\n",
    "\n",
    "cnt = 0\n",
    "i = 1\n",
    "\n",
    "while cnt < num4 :\n",
    "    print((i**2)+1,end = \",\")\n",
    "    cnt += 1\n",
    "    i+=1"
   ]
  },
  {
   "cell_type": "code",
   "execution_count": 64,
   "id": "40490fd1",
   "metadata": {},
   "outputs": [
    {
     "name": "stdout",
     "output_type": "stream",
     "text": [
      "2,3,5,7,11,13,17,19,23,29,31,37,41,43,47,53,59,61,67,71,73,79,83,89,97,101,\n",
      "Sum of prime series :  1161\n"
     ]
    }
   ],
   "source": [
    "# 36. Write a Python Program to Calculate the sum of first 25 prime numbers. ( Result = 101 )\n",
    "\n",
    "def prime(n):\n",
    "    prime = True\n",
    "    \n",
    "    i = 2\n",
    "    while i < n:\n",
    "        if n % i == 0:\n",
    "            prime = False\n",
    "        i +=1\n",
    "    \n",
    "    if prime == True :\n",
    "        return True\n",
    "    \n",
    "\n",
    "cnt=0\n",
    "sm = 0\n",
    "i = 2\n",
    "\n",
    "while cnt <= 25:\n",
    "    if(prime(i)):\n",
    "        print(i,end = \",\")\n",
    "        sm = sm+i\n",
    "        cnt+=1\n",
    "    i += 1\n",
    "    \n",
    "        \n",
    "print(\"\\nSum of prime series : \",sm)"
   ]
  },
  {
   "cell_type": "code",
   "execution_count": 72,
   "id": "fd7d1e08",
   "metadata": {},
   "outputs": [
    {
     "name": "stdout",
     "output_type": "stream",
     "text": [
      "Enter num for how many odd num sum : 50\n",
      "1,3,5,7,9,11,13,15,17,19,21,23,25,27,29,31,33,35,37,39,41,43,45,47,49,Total sum of odd num :  625\n"
     ]
    }
   ],
   "source": [
    "# 37. Write a Python Program to Calculate the sum of fist 50 odd numbers. ( Result = 625 )\n",
    "\n",
    "a = int(input(\"Enter num for how many odd num sum : \"))\n",
    "\n",
    "sm=0\n",
    "cnt=0\n",
    "i=1\n",
    "\n",
    "while cnt < a:\n",
    "    if(i%2 != 0):\n",
    "        print(i,end=\",\")\n",
    "        sm = sm+i\n",
    "    i+=1\n",
    "    cnt +=1\n",
    "        \n",
    "print(\"\\nTotal sum of odd num : \",sm)"
   ]
  },
  {
   "cell_type": "code",
   "execution_count": 74,
   "id": "caded711",
   "metadata": {},
   "outputs": [
    {
     "name": "stdout",
     "output_type": "stream",
     "text": [
      "Enter num for sum of series :10\n",
      "SUm is :  -5\n"
     ]
    }
   ],
   "source": [
    "# 38. Write a Python Program to Calculate the Series like 1-2+3-4…. –10 (Result = -5)\n",
    "\n",
    "n1 = int(input(\"Enter num for sum of series :\"))\n",
    "sm = 0\n",
    "\n",
    "for i in range(1,n1+1):\n",
    "    if(i%2 == 0):\n",
    "        sm= sm-i\n",
    "    else:\n",
    "        sm = sm+i\n",
    "        \n",
    "print(\"SUm is : \",sm)"
   ]
  },
  {
   "cell_type": "code",
   "execution_count": 77,
   "id": "5eaf65b7",
   "metadata": {},
   "outputs": [
    {
     "name": "stdout",
     "output_type": "stream",
     "text": [
      "Enter number for series : 9\n",
      "\n",
      "Sum of series is :  7.071031746031746\n"
     ]
    }
   ],
   "source": [
    "# 39.Write a Python Program to Calculate the Series like 1/2 + 2/3 + 3/4 + …+9/10 (Result = 7.071)\n",
    "\n",
    "n2 = int(input(\"Enter number for series : \"))\n",
    "\n",
    "sm = 0\n",
    "\n",
    "for i in range(1,n2+1):\n",
    "    a = i/(i+1)\n",
    "#     print(a,end = \",\")\n",
    "    sm = sm+a\n",
    "    \n",
    "print(\"\\nSum of series is : \",sm)"
   ]
  },
  {
   "cell_type": "code",
   "execution_count": 78,
   "id": "1e4b09e9",
   "metadata": {},
   "outputs": [
    {
     "name": "stdout",
     "output_type": "stream",
     "text": [
      "Enter number for sum : 10\n",
      "Sum is :  55\n"
     ]
    }
   ],
   "source": [
    "# 40. Write a Python Program to Calculate the series like 1+2+3…+10 ( Result = 55 )\n",
    "\n",
    "nm1 = int(input(\"Enter number for sum : \"))\n",
    "\n",
    "sm=0\n",
    "for i in range(1,nm1+1):\n",
    "    sm = sm+i\n",
    "    \n",
    "print(\"Sum is : \",sm)"
   ]
  },
  {
   "cell_type": "code",
   "execution_count": null,
   "id": "1c7e3551",
   "metadata": {},
   "outputs": [],
   "source": []
  }
 ],
 "metadata": {
  "kernelspec": {
   "display_name": "Python 3 (ipykernel)",
   "language": "python",
   "name": "python3"
  },
  "language_info": {
   "codemirror_mode": {
    "name": "ipython",
    "version": 3
   },
   "file_extension": ".py",
   "mimetype": "text/x-python",
   "name": "python",
   "nbconvert_exporter": "python",
   "pygments_lexer": "ipython3",
   "version": "3.11.5"
  }
 },
 "nbformat": 4,
 "nbformat_minor": 5
}
